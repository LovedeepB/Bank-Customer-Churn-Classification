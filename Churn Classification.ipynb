{
 "cells": [
  {
   "cell_type": "markdown",
   "metadata": {},
   "source": [
    "# CHURN CLASSIFICATION \n",
    "\n",
    "I want to figure out what would be the best estimator to set for the pipeline.  \n",
    "\n",
    "\n",
    "There are 22 features and the label class is the Attrition_Flag."
   ]
  },
  {
   "cell_type": "code",
   "execution_count": 1,
   "metadata": {},
   "outputs": [],
   "source": [
    "# importing required library \n",
    "import pandas as pd "
   ]
  },
  {
   "cell_type": "code",
   "execution_count": 2,
   "metadata": {},
   "outputs": [],
   "source": [
    "# reading in the csv file \n",
    "df = pd.read_csv('BankChurners.csv')"
   ]
  },
  {
   "cell_type": "code",
   "execution_count": 3,
   "metadata": {},
   "outputs": [
    {
     "data": {
      "text/html": [
       "<div>\n",
       "<style scoped>\n",
       "    .dataframe tbody tr th:only-of-type {\n",
       "        vertical-align: middle;\n",
       "    }\n",
       "\n",
       "    .dataframe tbody tr th {\n",
       "        vertical-align: top;\n",
       "    }\n",
       "\n",
       "    .dataframe thead th {\n",
       "        text-align: right;\n",
       "    }\n",
       "</style>\n",
       "<table border=\"1\" class=\"dataframe\">\n",
       "  <thead>\n",
       "    <tr style=\"text-align: right;\">\n",
       "      <th></th>\n",
       "      <th>CLIENTNUM</th>\n",
       "      <th>Attrition_Flag</th>\n",
       "      <th>Customer_Age</th>\n",
       "      <th>Gender</th>\n",
       "      <th>Dependent_count</th>\n",
       "      <th>Education_Level</th>\n",
       "      <th>Marital_Status</th>\n",
       "      <th>Income_Category</th>\n",
       "      <th>Card_Category</th>\n",
       "      <th>Months_on_book</th>\n",
       "      <th>...</th>\n",
       "      <th>Credit_Limit</th>\n",
       "      <th>Total_Revolving_Bal</th>\n",
       "      <th>Avg_Open_To_Buy</th>\n",
       "      <th>Total_Amt_Chng_Q4_Q1</th>\n",
       "      <th>Total_Trans_Amt</th>\n",
       "      <th>Total_Trans_Ct</th>\n",
       "      <th>Total_Ct_Chng_Q4_Q1</th>\n",
       "      <th>Avg_Utilization_Ratio</th>\n",
       "      <th>Naive_Bayes_Classifier_Attrition_Flag_Card_Category_Contacts_Count_12_mon_Dependent_count_Education_Level_Months_Inactive_12_mon_1</th>\n",
       "      <th>Naive_Bayes_Classifier_Attrition_Flag_Card_Category_Contacts_Count_12_mon_Dependent_count_Education_Level_Months_Inactive_12_mon_2</th>\n",
       "    </tr>\n",
       "  </thead>\n",
       "  <tbody>\n",
       "    <tr>\n",
       "      <th>0</th>\n",
       "      <td>768805383</td>\n",
       "      <td>Existing Customer</td>\n",
       "      <td>45</td>\n",
       "      <td>M</td>\n",
       "      <td>3</td>\n",
       "      <td>High School</td>\n",
       "      <td>Married</td>\n",
       "      <td>$60K - $80K</td>\n",
       "      <td>Blue</td>\n",
       "      <td>39</td>\n",
       "      <td>...</td>\n",
       "      <td>12691.0</td>\n",
       "      <td>777</td>\n",
       "      <td>11914.0</td>\n",
       "      <td>1.335</td>\n",
       "      <td>1144</td>\n",
       "      <td>42</td>\n",
       "      <td>1.625</td>\n",
       "      <td>0.061</td>\n",
       "      <td>0.000093</td>\n",
       "      <td>0.99991</td>\n",
       "    </tr>\n",
       "    <tr>\n",
       "      <th>1</th>\n",
       "      <td>818770008</td>\n",
       "      <td>Existing Customer</td>\n",
       "      <td>49</td>\n",
       "      <td>F</td>\n",
       "      <td>5</td>\n",
       "      <td>Graduate</td>\n",
       "      <td>Single</td>\n",
       "      <td>Less than $40K</td>\n",
       "      <td>Blue</td>\n",
       "      <td>44</td>\n",
       "      <td>...</td>\n",
       "      <td>8256.0</td>\n",
       "      <td>864</td>\n",
       "      <td>7392.0</td>\n",
       "      <td>1.541</td>\n",
       "      <td>1291</td>\n",
       "      <td>33</td>\n",
       "      <td>3.714</td>\n",
       "      <td>0.105</td>\n",
       "      <td>0.000057</td>\n",
       "      <td>0.99994</td>\n",
       "    </tr>\n",
       "    <tr>\n",
       "      <th>2</th>\n",
       "      <td>713982108</td>\n",
       "      <td>Existing Customer</td>\n",
       "      <td>51</td>\n",
       "      <td>M</td>\n",
       "      <td>3</td>\n",
       "      <td>Graduate</td>\n",
       "      <td>Married</td>\n",
       "      <td>$80K - $120K</td>\n",
       "      <td>Blue</td>\n",
       "      <td>36</td>\n",
       "      <td>...</td>\n",
       "      <td>3418.0</td>\n",
       "      <td>0</td>\n",
       "      <td>3418.0</td>\n",
       "      <td>2.594</td>\n",
       "      <td>1887</td>\n",
       "      <td>20</td>\n",
       "      <td>2.333</td>\n",
       "      <td>0.000</td>\n",
       "      <td>0.000021</td>\n",
       "      <td>0.99998</td>\n",
       "    </tr>\n",
       "    <tr>\n",
       "      <th>3</th>\n",
       "      <td>769911858</td>\n",
       "      <td>Existing Customer</td>\n",
       "      <td>40</td>\n",
       "      <td>F</td>\n",
       "      <td>4</td>\n",
       "      <td>High School</td>\n",
       "      <td>Unknown</td>\n",
       "      <td>Less than $40K</td>\n",
       "      <td>Blue</td>\n",
       "      <td>34</td>\n",
       "      <td>...</td>\n",
       "      <td>3313.0</td>\n",
       "      <td>2517</td>\n",
       "      <td>796.0</td>\n",
       "      <td>1.405</td>\n",
       "      <td>1171</td>\n",
       "      <td>20</td>\n",
       "      <td>2.333</td>\n",
       "      <td>0.760</td>\n",
       "      <td>0.000134</td>\n",
       "      <td>0.99987</td>\n",
       "    </tr>\n",
       "    <tr>\n",
       "      <th>4</th>\n",
       "      <td>709106358</td>\n",
       "      <td>Existing Customer</td>\n",
       "      <td>40</td>\n",
       "      <td>M</td>\n",
       "      <td>3</td>\n",
       "      <td>Uneducated</td>\n",
       "      <td>Married</td>\n",
       "      <td>$60K - $80K</td>\n",
       "      <td>Blue</td>\n",
       "      <td>21</td>\n",
       "      <td>...</td>\n",
       "      <td>4716.0</td>\n",
       "      <td>0</td>\n",
       "      <td>4716.0</td>\n",
       "      <td>2.175</td>\n",
       "      <td>816</td>\n",
       "      <td>28</td>\n",
       "      <td>2.500</td>\n",
       "      <td>0.000</td>\n",
       "      <td>0.000022</td>\n",
       "      <td>0.99998</td>\n",
       "    </tr>\n",
       "  </tbody>\n",
       "</table>\n",
       "<p>5 rows × 23 columns</p>\n",
       "</div>"
      ],
      "text/plain": [
       "   CLIENTNUM     Attrition_Flag  Customer_Age Gender  Dependent_count  \\\n",
       "0  768805383  Existing Customer            45      M                3   \n",
       "1  818770008  Existing Customer            49      F                5   \n",
       "2  713982108  Existing Customer            51      M                3   \n",
       "3  769911858  Existing Customer            40      F                4   \n",
       "4  709106358  Existing Customer            40      M                3   \n",
       "\n",
       "  Education_Level Marital_Status Income_Category Card_Category  \\\n",
       "0     High School        Married     $60K - $80K          Blue   \n",
       "1        Graduate         Single  Less than $40K          Blue   \n",
       "2        Graduate        Married    $80K - $120K          Blue   \n",
       "3     High School        Unknown  Less than $40K          Blue   \n",
       "4      Uneducated        Married     $60K - $80K          Blue   \n",
       "\n",
       "   Months_on_book  ...  Credit_Limit  Total_Revolving_Bal  Avg_Open_To_Buy  \\\n",
       "0              39  ...       12691.0                  777          11914.0   \n",
       "1              44  ...        8256.0                  864           7392.0   \n",
       "2              36  ...        3418.0                    0           3418.0   \n",
       "3              34  ...        3313.0                 2517            796.0   \n",
       "4              21  ...        4716.0                    0           4716.0   \n",
       "\n",
       "   Total_Amt_Chng_Q4_Q1  Total_Trans_Amt  Total_Trans_Ct  Total_Ct_Chng_Q4_Q1  \\\n",
       "0                 1.335             1144              42                1.625   \n",
       "1                 1.541             1291              33                3.714   \n",
       "2                 2.594             1887              20                2.333   \n",
       "3                 1.405             1171              20                2.333   \n",
       "4                 2.175              816              28                2.500   \n",
       "\n",
       "   Avg_Utilization_Ratio  \\\n",
       "0                  0.061   \n",
       "1                  0.105   \n",
       "2                  0.000   \n",
       "3                  0.760   \n",
       "4                  0.000   \n",
       "\n",
       "   Naive_Bayes_Classifier_Attrition_Flag_Card_Category_Contacts_Count_12_mon_Dependent_count_Education_Level_Months_Inactive_12_mon_1  \\\n",
       "0                                           0.000093                                                                                    \n",
       "1                                           0.000057                                                                                    \n",
       "2                                           0.000021                                                                                    \n",
       "3                                           0.000134                                                                                    \n",
       "4                                           0.000022                                                                                    \n",
       "\n",
       "   Naive_Bayes_Classifier_Attrition_Flag_Card_Category_Contacts_Count_12_mon_Dependent_count_Education_Level_Months_Inactive_12_mon_2  \n",
       "0                                            0.99991                                                                                   \n",
       "1                                            0.99994                                                                                   \n",
       "2                                            0.99998                                                                                   \n",
       "3                                            0.99987                                                                                   \n",
       "4                                            0.99998                                                                                   \n",
       "\n",
       "[5 rows x 23 columns]"
      ]
     },
     "execution_count": 3,
     "metadata": {},
     "output_type": "execute_result"
    }
   ],
   "source": [
    "# viewing the head of the dataset\n",
    "df.head()"
   ]
  },
  {
   "cell_type": "code",
   "execution_count": 4,
   "metadata": {},
   "outputs": [
    {
     "data": {
      "text/plain": [
       "Index(['CLIENTNUM', 'Attrition_Flag', 'Customer_Age', 'Gender',\n",
       "       'Dependent_count', 'Education_Level', 'Marital_Status',\n",
       "       'Income_Category', 'Card_Category', 'Months_on_book',\n",
       "       'Total_Relationship_Count', 'Months_Inactive_12_mon',\n",
       "       'Contacts_Count_12_mon', 'Credit_Limit', 'Total_Revolving_Bal',\n",
       "       'Avg_Open_To_Buy', 'Total_Amt_Chng_Q4_Q1', 'Total_Trans_Amt',\n",
       "       'Total_Trans_Ct', 'Total_Ct_Chng_Q4_Q1', 'Avg_Utilization_Ratio',\n",
       "       'Naive_Bayes_Classifier_Attrition_Flag_Card_Category_Contacts_Count_12_mon_Dependent_count_Education_Level_Months_Inactive_12_mon_1',\n",
       "       'Naive_Bayes_Classifier_Attrition_Flag_Card_Category_Contacts_Count_12_mon_Dependent_count_Education_Level_Months_Inactive_12_mon_2'],\n",
       "      dtype='object')"
      ]
     },
     "execution_count": 4,
     "metadata": {},
     "output_type": "execute_result"
    }
   ],
   "source": [
    "df.columns"
   ]
  },
  {
   "cell_type": "markdown",
   "metadata": {},
   "source": [
    "## DATA PREPARATION "
   ]
  },
  {
   "cell_type": "code",
   "execution_count": 5,
   "metadata": {},
   "outputs": [
    {
     "name": "stdout",
     "output_type": "stream",
     "text": [
      "How many duplicate values are there:  0\n"
     ]
    }
   ],
   "source": [
    "# removing the clientnum since it refers to an ID\n",
    "df.drop(columns = ['CLIENTNUM'], inplace = True)\n",
    "\n",
    "# removing the navie_bayes_classifier_attrition..\n",
    "df.drop(columns = ['Naive_Bayes_Classifier_Attrition_Flag_Card_Category_Contacts_Count_12_mon_Dependent_count_Education_Level_Months_Inactive_12_mon_1',\n",
    "                  'Naive_Bayes_Classifier_Attrition_Flag_Card_Category_Contacts_Count_12_mon_Dependent_count_Education_Level_Months_Inactive_12_mon_2'],\n",
    "       inplace = True)\n",
    "\n",
    "# seeing how many duplicates there are\n",
    "print('How many duplicate values are there: ', len(df) - len(df.drop_duplicates()))"
   ]
  },
  {
   "cell_type": "code",
   "execution_count": 6,
   "metadata": {},
   "outputs": [
    {
     "data": {
      "text/plain": [
       "Attrition_Flag              0\n",
       "Customer_Age                0\n",
       "Gender                      0\n",
       "Dependent_count             0\n",
       "Education_Level             0\n",
       "Marital_Status              0\n",
       "Income_Category             0\n",
       "Card_Category               0\n",
       "Months_on_book              0\n",
       "Total_Relationship_Count    0\n",
       "Months_Inactive_12_mon      0\n",
       "Contacts_Count_12_mon       0\n",
       "Credit_Limit                0\n",
       "Total_Revolving_Bal         0\n",
       "Avg_Open_To_Buy             0\n",
       "Total_Amt_Chng_Q4_Q1        0\n",
       "Total_Trans_Amt             0\n",
       "Total_Trans_Ct              0\n",
       "Total_Ct_Chng_Q4_Q1         0\n",
       "Avg_Utilization_Ratio       0\n",
       "dtype: int64"
      ]
     },
     "execution_count": 6,
     "metadata": {},
     "output_type": "execute_result"
    }
   ],
   "source": [
    "# checking to see if there are any null values in the data\n",
    "df.isnull().sum()"
   ]
  },
  {
   "cell_type": "code",
   "execution_count": 7,
   "metadata": {},
   "outputs": [
    {
     "name": "stdout",
     "output_type": "stream",
     "text": [
      "<class 'pandas.core.frame.DataFrame'>\n",
      "RangeIndex: 10127 entries, 0 to 10126\n",
      "Data columns (total 20 columns):\n",
      " #   Column                    Non-Null Count  Dtype  \n",
      "---  ------                    --------------  -----  \n",
      " 0   Attrition_Flag            10127 non-null  object \n",
      " 1   Customer_Age              10127 non-null  int64  \n",
      " 2   Gender                    10127 non-null  object \n",
      " 3   Dependent_count           10127 non-null  int64  \n",
      " 4   Education_Level           10127 non-null  object \n",
      " 5   Marital_Status            10127 non-null  object \n",
      " 6   Income_Category           10127 non-null  object \n",
      " 7   Card_Category             10127 non-null  object \n",
      " 8   Months_on_book            10127 non-null  int64  \n",
      " 9   Total_Relationship_Count  10127 non-null  int64  \n",
      " 10  Months_Inactive_12_mon    10127 non-null  int64  \n",
      " 11  Contacts_Count_12_mon     10127 non-null  int64  \n",
      " 12  Credit_Limit              10127 non-null  float64\n",
      " 13  Total_Revolving_Bal       10127 non-null  int64  \n",
      " 14  Avg_Open_To_Buy           10127 non-null  float64\n",
      " 15  Total_Amt_Chng_Q4_Q1      10127 non-null  float64\n",
      " 16  Total_Trans_Amt           10127 non-null  int64  \n",
      " 17  Total_Trans_Ct            10127 non-null  int64  \n",
      " 18  Total_Ct_Chng_Q4_Q1       10127 non-null  float64\n",
      " 19  Avg_Utilization_Ratio     10127 non-null  float64\n",
      "dtypes: float64(5), int64(9), object(6)\n",
      "memory usage: 1.5+ MB\n"
     ]
    }
   ],
   "source": [
    "df.info()"
   ]
  },
  {
   "cell_type": "markdown",
   "metadata": {},
   "source": [
    "### OUTLIER ANALYSIS "
   ]
  },
  {
   "cell_type": "markdown",
   "metadata": {},
   "source": [
    "<br /> \n",
    "\n",
    "#### Customer_Age"
   ]
  },
  {
   "cell_type": "code",
   "execution_count": 8,
   "metadata": {},
   "outputs": [
    {
     "data": {
      "text/plain": [
       "26"
      ]
     },
     "execution_count": 8,
     "metadata": {},
     "output_type": "execute_result"
    }
   ],
   "source": [
    "# checking to see the min age\n",
    "df['Customer_Age'].min()"
   ]
  },
  {
   "cell_type": "code",
   "execution_count": 9,
   "metadata": {},
   "outputs": [
    {
     "data": {
      "text/plain": [
       "73"
      ]
     },
     "execution_count": 9,
     "metadata": {},
     "output_type": "execute_result"
    }
   ],
   "source": [
    "# checking to see the max age \n",
    "df['Customer_Age'].max()"
   ]
  },
  {
   "cell_type": "markdown",
   "metadata": {},
   "source": [
    "#### Gender"
   ]
  },
  {
   "cell_type": "code",
   "execution_count": 10,
   "metadata": {},
   "outputs": [
    {
     "data": {
      "text/plain": [
       "array(['M', 'F'], dtype=object)"
      ]
     },
     "execution_count": 10,
     "metadata": {},
     "output_type": "execute_result"
    }
   ],
   "source": [
    "# checking to see the unique values in the gender feature\n",
    "df['Gender'].unique()"
   ]
  },
  {
   "cell_type": "code",
   "execution_count": 11,
   "metadata": {},
   "outputs": [
    {
     "data": {
      "text/plain": [
       "array([0, 1])"
      ]
     },
     "execution_count": 11,
     "metadata": {},
     "output_type": "execute_result"
    }
   ],
   "source": [
    "# convert M and F to 0 and 1 \n",
    "df['Gender'].replace({'M':0, 'F':1}, inplace = True)\n",
    "\n",
    "# seeing if the values in the gender feature are 0 and 1 now\n",
    "df['Gender'].unique()"
   ]
  },
  {
   "cell_type": "markdown",
   "metadata": {},
   "source": [
    "<br /> \n",
    "\n",
    "#### Dependent_count"
   ]
  },
  {
   "cell_type": "code",
   "execution_count": 12,
   "metadata": {},
   "outputs": [
    {
     "data": {
      "text/plain": [
       "array([3, 5, 4, 2, 0, 1])"
      ]
     },
     "execution_count": 12,
     "metadata": {},
     "output_type": "execute_result"
    }
   ],
   "source": [
    "# checking to make sure there are no null values \n",
    "df['Dependent_count'].unique()"
   ]
  },
  {
   "cell_type": "markdown",
   "metadata": {},
   "source": [
    "<br /> \n",
    "\n",
    "#### Education_Level"
   ]
  },
  {
   "cell_type": "code",
   "execution_count": 13,
   "metadata": {},
   "outputs": [
    {
     "data": {
      "text/plain": [
       "array(['High School', 'Graduate', 'Uneducated', 'Unknown', 'College',\n",
       "       'Post-Graduate', 'Doctorate'], dtype=object)"
      ]
     },
     "execution_count": 13,
     "metadata": {},
     "output_type": "execute_result"
    }
   ],
   "source": [
    "# checking to see all of the different education levels in the dataset\n",
    "df['Education_Level'].unique()"
   ]
  },
  {
   "cell_type": "code",
   "execution_count": 14,
   "metadata": {},
   "outputs": [
    {
     "data": {
      "text/plain": [
       "array(['High School', 'Graduate', 'Uneducated', 'Education_Level_Unknown',\n",
       "       'College', 'Post-Graduate', 'Doctorate'], dtype=object)"
      ]
     },
     "execution_count": 14,
     "metadata": {},
     "output_type": "execute_result"
    }
   ],
   "source": [
    "# replace Unknown with Education_Level_Unknown\n",
    "df['Education_Level'].replace({'Unknown': 'Education_Level_Unknown'}, inplace = True)\n",
    "\n",
    "# making sure the change happened \n",
    "df['Education_Level'].unique()"
   ]
  },
  {
   "cell_type": "markdown",
   "metadata": {},
   "source": [
    "<br />\n",
    "\n",
    "#### Marital_Status"
   ]
  },
  {
   "cell_type": "code",
   "execution_count": 15,
   "metadata": {},
   "outputs": [
    {
     "data": {
      "text/plain": [
       "array(['Married', 'Single', 'Unknown', 'Divorced'], dtype=object)"
      ]
     },
     "execution_count": 15,
     "metadata": {},
     "output_type": "execute_result"
    }
   ],
   "source": [
    "# seeing the different values in this feature\n",
    "df['Marital_Status'].unique()"
   ]
  },
  {
   "cell_type": "code",
   "execution_count": 16,
   "metadata": {},
   "outputs": [
    {
     "data": {
      "text/plain": [
       "array(['Married', 'Single', 'Marital_Status_Unknown', 'Divorced'],\n",
       "      dtype=object)"
      ]
     },
     "execution_count": 16,
     "metadata": {},
     "output_type": "execute_result"
    }
   ],
   "source": [
    "# replace Unknown with Marital_Status_Unknow\n",
    "df['Marital_Status'].replace({'Unknown': 'Marital_Status_Unknown'}, inplace = True)\n",
    "\n",
    "# making sure the change occurred \n",
    "df['Marital_Status'].unique()"
   ]
  },
  {
   "cell_type": "markdown",
   "metadata": {},
   "source": [
    "<br /> \n",
    "\n",
    "#### Income_Category"
   ]
  },
  {
   "cell_type": "code",
   "execution_count": 17,
   "metadata": {},
   "outputs": [
    {
     "data": {
      "text/plain": [
       "array(['$60K - $80K', 'Less than $40K', '$80K - $120K', '$40K - $60K',\n",
       "       '$120K +', 'Unknown'], dtype=object)"
      ]
     },
     "execution_count": 17,
     "metadata": {},
     "output_type": "execute_result"
    }
   ],
   "source": [
    "# seeing the different values for this feature \n",
    "df['Income_Category'].unique()"
   ]
  },
  {
   "cell_type": "code",
   "execution_count": 18,
   "metadata": {},
   "outputs": [
    {
     "data": {
      "text/plain": [
       "array(['$60K - $80K', 'Less than $40K', '$80K - $120K', '$40K - $60K',\n",
       "       '$120K +', 'Income_Category_Unknown'], dtype=object)"
      ]
     },
     "execution_count": 18,
     "metadata": {},
     "output_type": "execute_result"
    }
   ],
   "source": [
    "# convert Unknown to Income_Category_Unknown\n",
    "df['Income_Category'].replace({'Unknown' : 'Income_Category_Unknown'}, inplace = True)\n",
    "\n",
    "# checking to make sure the replacement occurred \n",
    "df['Income_Category'].unique()"
   ]
  },
  {
   "cell_type": "markdown",
   "metadata": {},
   "source": [
    "<br /> \n",
    "\n",
    "#### Card_Category"
   ]
  },
  {
   "cell_type": "code",
   "execution_count": 19,
   "metadata": {},
   "outputs": [
    {
     "data": {
      "text/plain": [
       "array(['Blue', 'Gold', 'Silver', 'Platinum'], dtype=object)"
      ]
     },
     "execution_count": 19,
     "metadata": {},
     "output_type": "execute_result"
    }
   ],
   "source": [
    "# seeing the unique values for the card_category\n",
    "df['Card_Category'].unique()"
   ]
  },
  {
   "cell_type": "code",
   "execution_count": 20,
   "metadata": {},
   "outputs": [
    {
     "data": {
      "text/plain": [
       "array(['Blue_Card_Category', 'Gold_Card_Category', 'Silver_Card_category',\n",
       "       'Platinum_Card_Category'], dtype=object)"
      ]
     },
     "execution_count": 20,
     "metadata": {},
     "output_type": "execute_result"
    }
   ],
   "source": [
    "# replace Blue with Blue_Card_category, Gold with Gold_Card_Category, Silver with Silver_Card_category and Platinum\n",
    "# with Platinum_Card_Category\n",
    "df['Card_Category'].replace({'Blue': 'Blue_Card_Category', 'Gold': 'Gold_Card_Category', \n",
    "                            'Silver': 'Silver_Card_category', 'Platinum': 'Platinum_Card_Category'},inplace = True)\n",
    "\n",
    "# make sure the values were replaced\n",
    "df['Card_Category'].unique()"
   ]
  },
  {
   "cell_type": "markdown",
   "metadata": {},
   "source": [
    "<br /> \n",
    "\n",
    "#### Months_on_book"
   ]
  },
  {
   "cell_type": "code",
   "execution_count": 21,
   "metadata": {},
   "outputs": [
    {
     "data": {
      "text/plain": [
       "13"
      ]
     },
     "execution_count": 21,
     "metadata": {},
     "output_type": "execute_result"
    }
   ],
   "source": [
    "# checking to make sure there are no negative numbers\n",
    "df['Months_on_book'].min()"
   ]
  },
  {
   "cell_type": "markdown",
   "metadata": {},
   "source": [
    "<br /> \n",
    "\n",
    "#### Total_Relationship_Count"
   ]
  },
  {
   "cell_type": "code",
   "execution_count": 22,
   "metadata": {},
   "outputs": [
    {
     "data": {
      "text/plain": [
       "1"
      ]
     },
     "execution_count": 22,
     "metadata": {},
     "output_type": "execute_result"
    }
   ],
   "source": [
    "# making sure the number isn't negative\n",
    "df['Total_Relationship_Count'].min()"
   ]
  },
  {
   "cell_type": "markdown",
   "metadata": {},
   "source": [
    "<br /> \n",
    "\n",
    "#### Months_Inactive_12_mon"
   ]
  },
  {
   "cell_type": "code",
   "execution_count": 23,
   "metadata": {},
   "outputs": [
    {
     "data": {
      "text/plain": [
       "0"
      ]
     },
     "execution_count": 23,
     "metadata": {},
     "output_type": "execute_result"
    }
   ],
   "source": [
    "# checking to make sure there aren't any negatives\n",
    "df['Months_Inactive_12_mon'].min()"
   ]
  },
  {
   "cell_type": "markdown",
   "metadata": {},
   "source": [
    "#### Contacts_Count_12_mon"
   ]
  },
  {
   "cell_type": "code",
   "execution_count": 24,
   "metadata": {},
   "outputs": [
    {
     "data": {
      "text/plain": [
       "0"
      ]
     },
     "execution_count": 24,
     "metadata": {},
     "output_type": "execute_result"
    }
   ],
   "source": [
    "# checking to make sure there aren't any negatives\n",
    "df['Contacts_Count_12_mon'].min()"
   ]
  },
  {
   "cell_type": "markdown",
   "metadata": {},
   "source": [
    "#### Credit_Limit"
   ]
  },
  {
   "cell_type": "code",
   "execution_count": 25,
   "metadata": {},
   "outputs": [
    {
     "data": {
      "text/plain": [
       "1438.3"
      ]
     },
     "execution_count": 25,
     "metadata": {},
     "output_type": "execute_result"
    }
   ],
   "source": [
    "# making sure there aren't any negative or 0 \n",
    "df['Credit_Limit'].min()"
   ]
  },
  {
   "cell_type": "markdown",
   "metadata": {},
   "source": [
    "#### Total_Revolving_Bal"
   ]
  },
  {
   "cell_type": "code",
   "execution_count": 26,
   "metadata": {},
   "outputs": [
    {
     "data": {
      "text/plain": [
       "0"
      ]
     },
     "execution_count": 26,
     "metadata": {},
     "output_type": "execute_result"
    }
   ],
   "source": [
    "# making sure there aren't any negative values \n",
    "df['Total_Revolving_Bal'].min()"
   ]
  },
  {
   "cell_type": "markdown",
   "metadata": {},
   "source": [
    "<br /> \n",
    "\n",
    "#### Avg_Open_To_Buy"
   ]
  },
  {
   "cell_type": "code",
   "execution_count": 27,
   "metadata": {},
   "outputs": [
    {
     "data": {
      "text/plain": [
       "3.0"
      ]
     },
     "execution_count": 27,
     "metadata": {},
     "output_type": "execute_result"
    }
   ],
   "source": [
    "# making sure there aren't any negative values \n",
    "df['Avg_Open_To_Buy'].min()"
   ]
  },
  {
   "cell_type": "markdown",
   "metadata": {},
   "source": [
    "<br /> \n",
    "\n",
    "#### Total_Amt_Chng_Q4_Q1"
   ]
  },
  {
   "cell_type": "code",
   "execution_count": 28,
   "metadata": {},
   "outputs": [
    {
     "data": {
      "text/plain": [
       "0.0"
      ]
     },
     "execution_count": 28,
     "metadata": {},
     "output_type": "execute_result"
    }
   ],
   "source": [
    "# making sure there aren't any negative values\n",
    "df['Total_Amt_Chng_Q4_Q1'].min()"
   ]
  },
  {
   "cell_type": "markdown",
   "metadata": {},
   "source": [
    "<br /> \n",
    "\n",
    "#### Total_Trans_Amt"
   ]
  },
  {
   "cell_type": "code",
   "execution_count": 29,
   "metadata": {},
   "outputs": [
    {
     "data": {
      "text/plain": [
       "510"
      ]
     },
     "execution_count": 29,
     "metadata": {},
     "output_type": "execute_result"
    }
   ],
   "source": [
    "# checking to make sure there aren't any negative values\n",
    "df['Total_Trans_Amt'].min()"
   ]
  },
  {
   "cell_type": "markdown",
   "metadata": {},
   "source": [
    "<br /> \n",
    "\n",
    "#### Total_Trans_Ct"
   ]
  },
  {
   "cell_type": "code",
   "execution_count": 30,
   "metadata": {},
   "outputs": [
    {
     "data": {
      "text/plain": [
       "10"
      ]
     },
     "execution_count": 30,
     "metadata": {},
     "output_type": "execute_result"
    }
   ],
   "source": [
    "# checking to make sure there aren't any negative values\n",
    "df['Total_Trans_Ct'].min()"
   ]
  },
  {
   "cell_type": "markdown",
   "metadata": {},
   "source": [
    "<br />\n",
    "\n",
    "#### Total_Ct_Chng_Q4_Q1"
   ]
  },
  {
   "cell_type": "code",
   "execution_count": 31,
   "metadata": {},
   "outputs": [
    {
     "data": {
      "text/plain": [
       "0.0"
      ]
     },
     "execution_count": 31,
     "metadata": {},
     "output_type": "execute_result"
    }
   ],
   "source": [
    "# checking to make sure there aren't any negative values\n",
    "df['Total_Ct_Chng_Q4_Q1'].min()"
   ]
  },
  {
   "cell_type": "markdown",
   "metadata": {},
   "source": [
    "<br /> \n",
    "\n",
    "#### Avg_Utilization_Ratio"
   ]
  },
  {
   "cell_type": "code",
   "execution_count": 32,
   "metadata": {},
   "outputs": [
    {
     "data": {
      "text/plain": [
       "0.0"
      ]
     },
     "execution_count": 32,
     "metadata": {},
     "output_type": "execute_result"
    }
   ],
   "source": [
    "# checking to make sure there aren't any negative values\n",
    "df['Avg_Utilization_Ratio'].min()"
   ]
  },
  {
   "cell_type": "markdown",
   "metadata": {},
   "source": [
    "<br /> \n",
    "\n",
    "## DATA VISUALIZATION "
   ]
  },
  {
   "cell_type": "code",
   "execution_count": 33,
   "metadata": {},
   "outputs": [],
   "source": [
    "# importing required libraries\n",
    "import matplotlib.pyplot as plt \n",
    "import seaborn as sns\n",
    "%matplotlib inline"
   ]
  },
  {
   "cell_type": "code",
   "execution_count": 34,
   "metadata": {},
   "outputs": [],
   "source": [
    "# setting the style \n",
    "sns.set_style('ticks')\n",
    "\n",
    "# creating the palette for the charts \n",
    "palette = ['#456268', '#79A3B1'] "
   ]
  },
  {
   "cell_type": "code",
   "execution_count": 35,
   "metadata": {},
   "outputs": [],
   "source": [
    "# function that will create the plot for me \n",
    "def create_plot(df, x, y = '', figsize = (15,10), hue = 'Attrition_Flag'):\n",
    "    # setting the figure size \n",
    "    plt.figure(figsize = figsize)\n",
    "    \n",
    "    # creating the plot\n",
    "    # this is for when I'm plotting the label \n",
    "    if hue == x: \n",
    "        sns.countplot(data = df, x = x, palette = ['#456268'])\n",
    "        title = 'How Many People Churned'\n",
    "    else:\n",
    "        # this if when I'm plotting the other features to see how they affect the label\n",
    "        sns.countplot(data = df, x = x, hue = hue, palette = palette)\n",
    "        title = \"Based On The \" + x + \" Feature How Many People Churned/Didn't Churn\"\n",
    "    \n",
    "    # creating the plot title \n",
    "    plt.title(\n",
    "        title, \n",
    "        size = 20, # the size of the title\n",
    "        fontweight = 'bold', # making the title bold\n",
    "        y = 1.02 # move the title up alitle\n",
    "    )\n",
    "    \n",
    "    # creating the x label \n",
    "    plt.xlabel(\n",
    "        x,\n",
    "        size = 12, # size of the label\n",
    "        labelpad = 20 # moving the label down\n",
    "    )\n",
    "    \n",
    "    # creating the y label\n",
    "    plt.ylabel(\n",
    "        y\n",
    "    )\n",
    "    \n",
    "    \n",
    "    # show the plot \n",
    "    plt.show()"
   ]
  },
  {
   "cell_type": "markdown",
   "metadata": {},
   "source": [
    "<br /> \n",
    "\n",
    "### PLOTS "
   ]
  },
  {
   "cell_type": "code",
   "execution_count": 36,
   "metadata": {},
   "outputs": [
    {
     "data": {
      "text/plain": [
       "Index(['Attrition_Flag', 'Customer_Age', 'Gender', 'Dependent_count',\n",
       "       'Education_Level', 'Marital_Status', 'Income_Category', 'Card_Category',\n",
       "       'Months_on_book', 'Total_Relationship_Count', 'Months_Inactive_12_mon',\n",
       "       'Contacts_Count_12_mon', 'Credit_Limit', 'Total_Revolving_Bal',\n",
       "       'Avg_Open_To_Buy', 'Total_Amt_Chng_Q4_Q1', 'Total_Trans_Amt',\n",
       "       'Total_Trans_Ct', 'Total_Ct_Chng_Q4_Q1', 'Avg_Utilization_Ratio'],\n",
       "      dtype='object')"
      ]
     },
     "execution_count": 36,
     "metadata": {},
     "output_type": "execute_result"
    }
   ],
   "source": [
    "# seeing all the column names\n",
    "df.columns"
   ]
  },
  {
   "cell_type": "code",
   "execution_count": 37,
   "metadata": {},
   "outputs": [],
   "source": [
    "# create a copy of the dataframe to use for the visualizations and adjust the values in the columns to make the \n",
    "# charts more understandable \n",
    "\n",
    "df_vis = df.copy()"
   ]
  },
  {
   "cell_type": "markdown",
   "metadata": {},
   "source": [
    "<br />\n",
    "\n",
    "#### Attrition_Flag"
   ]
  },
  {
   "cell_type": "code",
   "execution_count": 38,
   "metadata": {},
   "outputs": [
    {
     "data": {
      "image/png": "[encoded data removed]",
      "text/plain": [
       "<Figure size 720x576 with 1 Axes>"
      ]
     },
     "metadata": {},
     "output_type": "display_data"
    }
   ],
   "source": [
    "x = 'Attrition_Flag'\n",
    "figsize = (10,8)\n",
    "\n",
    "create_plot(df_vis, x, figsize = figsize)"
   ]
  },
  {
   "cell_type": "markdown",
   "metadata": {},
   "source": [
    "You can see that most of the People in this dataset are still with the bank. This is an imbalanced dataset"
   ]
  },
  {
   "cell_type": "markdown",
   "metadata": {},
   "source": [
    "<br /> \n",
    "\n",
    "#### Customer_Age"
   ]
  },
  {
   "cell_type": "code",
   "execution_count": 39,
   "metadata": {},
   "outputs": [
    {
     "data": {
      "image/png": "[encoded data removed]",
      "text/plain": [
       "<Figure size 1080x720 with 1 Axes>"
      ]
     },
     "metadata": {},
     "output_type": "display_data"
    }
   ],
   "source": [
    "x = 'Customer_Age'\n",
    "title = 'Based On The Customer Ages How Many People Churned'\n",
    "\n",
    "create_plot(df_vis, x)"
   ]
  },
  {
   "cell_type": "markdown",
   "metadata": {},
   "source": [
    "This chart shows that most of the individuals that churned were around 37 till 59. Also you can see that the number of customers who are still with the bank based on their age creates a sort of bell curve. "
   ]
  },
  {
   "cell_type": "markdown",
   "metadata": {},
   "source": [
    "<br /> \n",
    "\n",
    "#### Gender"
   ]
  },
  {
   "cell_type": "code",
   "execution_count": 40,
   "metadata": {},
   "outputs": [],
   "source": [
    "# replace 0 and 1 with Male and Female so its easier to understand the chart \n",
    "df_vis['Gender'].replace({0:'Male', 1: 'Female'}, inplace = True)"
   ]
  },
  {
   "cell_type": "code",
   "execution_count": 41,
   "metadata": {},
   "outputs": [
    {
     "data": {
      "image/png": "[encoded data removed]",
      "text/plain": [
       "<Figure size 720x576 with 1 Axes>"
      ]
     },
     "metadata": {},
     "output_type": "display_data"
    }
   ],
   "source": [
    "x = 'Gender'\n",
    "figsize = (10,8)\n",
    "\n",
    "create_plot(df_vis, x, figsize = figsize)"
   ]
  },
  {
   "cell_type": "markdown",
   "metadata": {},
   "source": [
    "This dataset contains more Females than Males"
   ]
  },
  {
   "cell_type": "markdown",
   "metadata": {},
   "source": [
    "<br /> \n",
    "\n",
    "#### Dependent_count"
   ]
  },
  {
   "cell_type": "code",
   "execution_count": 42,
   "metadata": {},
   "outputs": [
    {
     "data": {
      "image/png": "[encoded data removed]",
      "text/plain": [
       "<Figure size 720x576 with 1 Axes>"
      ]
     },
     "metadata": {},
     "output_type": "display_data"
    }
   ],
   "source": [
    "x = 'Dependent_count'\n",
    "figsize = (10,8)\n",
    "\n",
    "create_plot(df_vis, x, figsize = figsize)"
   ]
  },
  {
   "cell_type": "markdown",
   "metadata": {},
   "source": [
    "Seems like the the dependent count of 2 and 3 had the same number of people who didn't churn. Also it seems that the more dependent count you have you also get a higher chance of churning but once you hit 3 it decreases. "
   ]
  },
  {
   "cell_type": "markdown",
   "metadata": {},
   "source": [
    "<br /> \n",
    "\n",
    "#### Education_Level"
   ]
  },
  {
   "cell_type": "code",
   "execution_count": 43,
   "metadata": {},
   "outputs": [
    {
     "data": {
      "image/png": "[encoded data removed]",
      "text/plain": [
       "<Figure size 1080x576 with 1 Axes>"
      ]
     },
     "metadata": {},
     "output_type": "display_data"
    }
   ],
   "source": [
    "x = 'Education_Level'\n",
    "figsize = (15,8)\n",
    "\n",
    "create_plot(df_vis, x, figsize = figsize)"
   ]
  },
  {
   "cell_type": "markdown",
   "metadata": {},
   "source": [
    "Seems like most of people in this dataset have a graduate degree"
   ]
  },
  {
   "cell_type": "markdown",
   "metadata": {},
   "source": [
    "<br /> \n",
    "\n",
    "#### Marital_Status"
   ]
  },
  {
   "cell_type": "code",
   "execution_count": 44,
   "metadata": {},
   "outputs": [
    {
     "data": {
      "image/png": "[encoded data removed]",
      "text/plain": [
       "<Figure size 720x576 with 1 Axes>"
      ]
     },
     "metadata": {},
     "output_type": "display_data"
    }
   ],
   "source": [
    "x = 'Marital_Status'\n",
    "figsize = (10,8)\n",
    "\n",
    "create_plot(df_vis, x, figsize = figsize)"
   ]
  },
  {
   "cell_type": "markdown",
   "metadata": {},
   "source": [
    "Most of the people in this dataset seem to be either married or single. Also the number of people who churned who are single or married are very close to one another. \n"
   ]
  },
  {
   "cell_type": "markdown",
   "metadata": {},
   "source": [
    "<br /> \n",
    "\n",
    "#### Income_Category"
   ]
  },
  {
   "cell_type": "code",
   "execution_count": 45,
   "metadata": {},
   "outputs": [
    {
     "data": {
      "image/png": "[encoded data removed]",
      "text/plain": [
       "<Figure size 720x576 with 1 Axes>"
      ]
     },
     "metadata": {},
     "output_type": "display_data"
    }
   ],
   "source": [
    "x = 'Income_Category'\n",
    "figsize = (10,8)\n",
    "\n",
    "create_plot(df_vis, x, figsize = figsize)"
   ]
  },
  {
   "cell_type": "markdown",
   "metadata": {},
   "source": [
    "IT seems that most of the people in this dataset have an income of less than $40K"
   ]
  },
  {
   "cell_type": "markdown",
   "metadata": {},
   "source": [
    "<br /> \n",
    "\n",
    "#### Card_Category"
   ]
  },
  {
   "cell_type": "code",
   "execution_count": 46,
   "metadata": {},
   "outputs": [
    {
     "data": {
      "image/png": "[encoded data removed]",
      "text/plain": [
       "<Figure size 720x576 with 1 Axes>"
      ]
     },
     "metadata": {},
     "output_type": "display_data"
    }
   ],
   "source": [
    "x = 'Card_Category'\n",
    "figsize = (10,8)\n",
    "\n",
    "create_plot(df_vis, x, figsize = figsize)"
   ]
  },
  {
   "cell_type": "markdown",
   "metadata": {},
   "source": [
    "Almost all of the people in this dataset have a blue card"
   ]
  },
  {
   "cell_type": "markdown",
   "metadata": {},
   "source": [
    "<br /> \n",
    "\n",
    "#### Months_on_book"
   ]
  },
  {
   "cell_type": "code",
   "execution_count": 47,
   "metadata": {},
   "outputs": [
    {
     "data": {
      "text/plain": [
       "44"
      ]
     },
     "execution_count": 47,
     "metadata": {},
     "output_type": "execute_result"
    }
   ],
   "source": [
    "# seeing how many different values there are for this feature\n",
    "len(df_vis['Months_on_book'].unique())"
   ]
  },
  {
   "cell_type": "code",
   "execution_count": 48,
   "metadata": {},
   "outputs": [
    {
     "data": {
      "text/plain": [
       "13"
      ]
     },
     "execution_count": 48,
     "metadata": {},
     "output_type": "execute_result"
    }
   ],
   "source": [
    "# viewing the min value\n",
    "df_vis['Months_on_book'].min()"
   ]
  },
  {
   "cell_type": "code",
   "execution_count": 49,
   "metadata": {},
   "outputs": [
    {
     "data": {
      "text/plain": [
       "56"
      ]
     },
     "execution_count": 49,
     "metadata": {},
     "output_type": "execute_result"
    }
   ],
   "source": [
    "# viewing the max value\n",
    "df_vis['Months_on_book'].max()"
   ]
  },
  {
   "cell_type": "code",
   "execution_count": 50,
   "metadata": {},
   "outputs": [
    {
     "data": {
      "text/plain": [
       "[4 years, 3 years, 2 years, 5 years]\n",
       "Categories (4, object): [2 years < 3 years < 4 years < 5 years]"
      ]
     },
     "execution_count": 50,
     "metadata": {},
     "output_type": "execute_result"
    }
   ],
   "source": [
    "# binning this feature so the chart is easy to read. The bins I am going to create are \n",
    "# [1-12] = (0,12]      -> label = 1 year\n",
    "# [13-24] = (12,24]    -> label = 2 year\n",
    "# [25-36] = (25,36]    -> label = 3 year\n",
    "# [37-48] = (37,48]    -> label = 4 year\n",
    "# [49-60] = (48,60]    -> label = 5 year\n",
    "\n",
    "# defining the bins\n",
    "months_bins = [0,12,24,36,48,60]\n",
    "\n",
    "# creating the labels \n",
    "labels = ['1 year', '2 years', '3 years', '4 years', '5 years']\n",
    "\n",
    "df_vis['Months_on_book'] = pd.cut(x = df_vis['Months_on_book'], bins = months_bins, labels = labels)\n",
    "\n",
    "# viewing the unique values of Months_on_book to see if the binning worked \n",
    "df_vis['Months_on_book'].unique()"
   ]
  },
  {
   "cell_type": "code",
   "execution_count": 51,
   "metadata": {},
   "outputs": [
    {
     "data": {
      "image/png": "[encoded data removed]",
      "text/plain": [
       "<Figure size 720x576 with 1 Axes>"
      ]
     },
     "metadata": {},
     "output_type": "display_data"
    }
   ],
   "source": [
    "# plotting \n",
    "x = 'Months_on_book'\n",
    "figsize = (10,8)\n",
    "\n",
    "create_plot(df_vis, x, figsize = figsize)"
   ]
  },
  {
   "cell_type": "markdown",
   "metadata": {},
   "source": [
    "As we can see that Most of the people fall in the 3 or 4 years range. Which means the months on book is 25-36 months for the people in the 3 year and 37-48 for the people in 4 years."
   ]
  },
  {
   "cell_type": "markdown",
   "metadata": {},
   "source": [
    "<br /> \n",
    "\n",
    "#### Total_Relationship_Count"
   ]
  },
  {
   "cell_type": "code",
   "execution_count": 52,
   "metadata": {},
   "outputs": [
    {
     "data": {
      "image/png": "[encoded data removed]",
      "text/plain": [
       "<Figure size 720x576 with 1 Axes>"
      ]
     },
     "metadata": {},
     "output_type": "display_data"
    }
   ],
   "source": [
    "x = 'Total_Relationship_Count'\n",
    "figsize = (10,8)\n",
    "\n",
    "create_plot(df_vis, x, figsize = figsize)"
   ]
  },
  {
   "cell_type": "markdown",
   "metadata": {},
   "source": [
    "Most of the people in this dataset have a total relationship of 3. But the number of people with a total relationship of 4, 5, and 6 are very close to 3.  "
   ]
  },
  {
   "cell_type": "markdown",
   "metadata": {},
   "source": [
    "<br /> \n",
    "\n",
    "#### Months_Inactive_12_mon"
   ]
  },
  {
   "cell_type": "code",
   "execution_count": 53,
   "metadata": {},
   "outputs": [
    {
     "data": {
      "text/plain": [
       "7"
      ]
     },
     "execution_count": 53,
     "metadata": {},
     "output_type": "execute_result"
    }
   ],
   "source": [
    "# seeing how many unique values there are that I will need to plot\n",
    "len(df_vis['Months_Inactive_12_mon'].unique())"
   ]
  },
  {
   "cell_type": "code",
   "execution_count": 54,
   "metadata": {},
   "outputs": [
    {
     "data": {
      "image/png": "[encoded data removed]",
      "text/plain": [
       "<Figure size 720x576 with 1 Axes>"
      ]
     },
     "metadata": {},
     "output_type": "display_data"
    }
   ],
   "source": [
    "x = 'Months_Inactive_12_mon'\n",
    "figsize = (10,8)\n",
    "\n",
    "create_plot(df_vis, x, figsize = figsize)"
   ]
  },
  {
   "cell_type": "markdown",
   "metadata": {},
   "source": [
    "Most of the people in this dataset were either inactive for 1,2 or 3 months. "
   ]
  },
  {
   "cell_type": "markdown",
   "metadata": {},
   "source": [
    "<br /> \n",
    "\n",
    "#### Contacts_Count_12_mon"
   ]
  },
  {
   "cell_type": "code",
   "execution_count": 55,
   "metadata": {},
   "outputs": [
    {
     "data": {
      "text/plain": [
       "7"
      ]
     },
     "execution_count": 55,
     "metadata": {},
     "output_type": "execute_result"
    }
   ],
   "source": [
    "# seeing how many different values are in this feature\n",
    "len(df_vis['Contacts_Count_12_mon'].unique())"
   ]
  },
  {
   "cell_type": "code",
   "execution_count": 56,
   "metadata": {},
   "outputs": [
    {
     "data": {
      "image/png": "[encoded data removed]",
      "text/plain": [
       "<Figure size 720x576 with 1 Axes>"
      ]
     },
     "metadata": {},
     "output_type": "display_data"
    }
   ],
   "source": [
    "x = 'Contacts_Count_12_mon'\n",
    "figsize = (10,8)\n",
    "\n",
    "create_plot(df_vis, x, figsize = figsize)"
   ]
  },
  {
   "cell_type": "markdown",
   "metadata": {},
   "source": [
    "Most of the values fall either in 2 or 3"
   ]
  },
  {
   "cell_type": "markdown",
   "metadata": {},
   "source": [
    "<br /> \n",
    "\n",
    "#### Credit_Limit"
   ]
  },
  {
   "cell_type": "code",
   "execution_count": 57,
   "metadata": {},
   "outputs": [
    {
     "data": {
      "text/plain": [
       "6205"
      ]
     },
     "execution_count": 57,
     "metadata": {},
     "output_type": "execute_result"
    }
   ],
   "source": [
    "# seeing how many different values are in credit limit\n",
    "len(df_vis['Credit_Limit'].unique())"
   ]
  },
  {
   "cell_type": "code",
   "execution_count": 58,
   "metadata": {},
   "outputs": [
    {
     "data": {
      "text/plain": [
       "1438.3"
      ]
     },
     "execution_count": 58,
     "metadata": {},
     "output_type": "execute_result"
    }
   ],
   "source": [
    "# viewing the min value\n",
    "df_vis['Credit_Limit'].min()"
   ]
  },
  {
   "cell_type": "code",
   "execution_count": 59,
   "metadata": {},
   "outputs": [
    {
     "data": {
      "text/plain": [
       "34516.0"
      ]
     },
     "execution_count": 59,
     "metadata": {},
     "output_type": "execute_result"
    }
   ],
   "source": [
    "# viewing the max value\n",
    "df_vis['Credit_Limit'].max()"
   ]
  },
  {
   "cell_type": "code",
   "execution_count": 60,
   "metadata": {},
   "outputs": [
    {
     "data": {
      "text/plain": [
       "[(10000, 15000], (5000, 10000], (1000, 5000], (30000, 35000], (25000, 30000], (20000, 25000], (15000, 20000]]\n",
       "Categories (7, interval[int64]): [(1000, 5000] < (5000, 10000] < (10000, 15000] < (15000, 20000] < (20000, 25000] < (25000, 30000] < (30000, 35000]]"
      ]
     },
     "execution_count": 60,
     "metadata": {},
     "output_type": "execute_result"
    }
   ],
   "source": [
    "# create bins\n",
    "# min - 1,438.3.     max - 34,516.0\n",
    "# plot the values: (1,000,5,000], (5,000 - 10,000], (10,000 - 15,000], (15,000 - 20,000], (20,000 - 25,000], \n",
    "# (25,000 - 30,000], (30,000 - 35,000]\n",
    "\n",
    "# define the bins to create\n",
    "credit_bins = [1000,5000,10000,15000,20000,25000,30000,35000]\n",
    "\n",
    "# replace the values with the bins \n",
    "df_vis['Credit_Limit'] = pd.cut(df_vis['Credit_Limit'], bins = credit_bins)\n",
    "\n",
    "# making sure the bins look like the way I wanted \n",
    "df_vis['Credit_Limit'].unique()"
   ]
  },
  {
   "cell_type": "code",
   "execution_count": 61,
   "metadata": {},
   "outputs": [
    {
     "data": {
      "image/png": "[encoded data removed]",
      "text/plain": [
       "<Figure size 720x576 with 1 Axes>"
      ]
     },
     "metadata": {},
     "output_type": "display_data"
    }
   ],
   "source": [
    "# plot\n",
    "x = 'Credit_Limit'\n",
    "figsize = (10,8)\n",
    "\n",
    "create_plot(df_vis, x, figsize = figsize)"
   ]
  },
  {
   "cell_type": "markdown",
   "metadata": {},
   "source": [
    "Most of the individuals in this dataset have a credit limit of 1,438.3 - 5,000 dollars"
   ]
  },
  {
   "cell_type": "markdown",
   "metadata": {},
   "source": [
    "<br /> \n",
    "\n",
    "#### Total_Revolving_Bal"
   ]
  },
  {
   "cell_type": "code",
   "execution_count": 62,
   "metadata": {},
   "outputs": [
    {
     "data": {
      "text/plain": [
       "1974"
      ]
     },
     "execution_count": 62,
     "metadata": {},
     "output_type": "execute_result"
    }
   ],
   "source": [
    "# seeing how many distinct values there are in this feature\n",
    "len(df_vis['Total_Revolving_Bal'].unique())"
   ]
  },
  {
   "cell_type": "code",
   "execution_count": 63,
   "metadata": {},
   "outputs": [
    {
     "data": {
      "text/plain": [
       "0"
      ]
     },
     "execution_count": 63,
     "metadata": {},
     "output_type": "execute_result"
    }
   ],
   "source": [
    "# what is the min value\n",
    "df_vis['Total_Revolving_Bal'].min()"
   ]
  },
  {
   "cell_type": "code",
   "execution_count": 64,
   "metadata": {},
   "outputs": [
    {
     "data": {
      "text/plain": [
       "2517"
      ]
     },
     "execution_count": 64,
     "metadata": {},
     "output_type": "execute_result"
    }
   ],
   "source": [
    "# what is the max value \n",
    "df_vis['Total_Revolving_Bal'].max()"
   ]
  },
  {
   "cell_type": "code",
   "execution_count": 65,
   "metadata": {},
   "outputs": [
    {
     "data": {
      "text/plain": [
       "[(500.0, 1000.0], NaN, (2500.0, 3000.0], (1000.0, 1500.0], (2000.0, 2500.0], (1500.0, 2000.0], (0.0, 500.0]]\n",
       "Categories (6, interval[int64]): [(0, 500] < (500, 1000] < (1000, 1500] < (1500, 2000] < (2000, 2500] < (2500, 3000]]"
      ]
     },
     "execution_count": 65,
     "metadata": {},
     "output_type": "execute_result"
    }
   ],
   "source": [
    "# create bins\n",
    "# min - 0       max - 2,517\n",
    "# plot the values: (0,500], (500,1000], (1000,1500], (1500,2000], (2000,2500], (2500,3000]\n",
    "\n",
    "# define the bins \n",
    "revolving_bins = [0,500,1000,1500,2000,2500,3000]\n",
    "\n",
    "# replace the values with the bins \n",
    "df_vis['Total_Revolving_Bal'] = pd.cut(df_vis['Total_Revolving_Bal'], bins = revolving_bins)\n",
    "\n",
    "# making sure the bins looks the way I desired \n",
    "df_vis['Total_Revolving_Bal'].unique()"
   ]
  },
  {
   "cell_type": "code",
   "execution_count": 66,
   "metadata": {},
   "outputs": [
    {
     "data": {
      "image/png": "[encoded data removed]",
      "text/plain": [
       "<Figure size 720x576 with 1 Axes>"
      ]
     },
     "metadata": {},
     "output_type": "display_data"
    }
   ],
   "source": [
    "# plot \n",
    "x = 'Total_Revolving_Bal'\n",
    "figsize = (10,8)\n",
    "\n",
    "create_plot(df_vis, x, figsize = figsize)"
   ]
  },
  {
   "cell_type": "markdown",
   "metadata": {},
   "source": [
    "Most of the revolving credit falls inbetween 1,000 - 2,000 dollars. Also people with a revolving credit of 0 till 500 were more likely to churn then not churn."
   ]
  },
  {
   "cell_type": "markdown",
   "metadata": {},
   "source": [
    "<br /> \n",
    "\n",
    "#### Avg_Open_To_Buy"
   ]
  },
  {
   "cell_type": "code",
   "execution_count": 67,
   "metadata": {},
   "outputs": [
    {
     "data": {
      "text/plain": [
       "6813"
      ]
     },
     "execution_count": 67,
     "metadata": {},
     "output_type": "execute_result"
    }
   ],
   "source": [
    "# seeing how many distinct values there are in this feature\n",
    "len(df_vis['Avg_Open_To_Buy'].unique())"
   ]
  },
  {
   "cell_type": "code",
   "execution_count": 68,
   "metadata": {},
   "outputs": [
    {
     "data": {
      "text/plain": [
       "3.0"
      ]
     },
     "execution_count": 68,
     "metadata": {},
     "output_type": "execute_result"
    }
   ],
   "source": [
    "# what is the min value in this feature\n",
    "df_vis['Avg_Open_To_Buy'].min()"
   ]
  },
  {
   "cell_type": "code",
   "execution_count": 69,
   "metadata": {},
   "outputs": [
    {
     "data": {
      "text/plain": [
       "34516.0"
      ]
     },
     "execution_count": 69,
     "metadata": {},
     "output_type": "execute_result"
    }
   ],
   "source": [
    "# what is the max value in this feature\n",
    "df_vis['Avg_Open_To_Buy'].max()"
   ]
  },
  {
   "cell_type": "code",
   "execution_count": 70,
   "metadata": {},
   "outputs": [
    {
     "data": {
      "text/plain": [
       "[(10000, 15000], (5000, 10000], (0, 5000], (30000, 35000], (25000, 30000], (15000, 20000], (20000, 25000]]\n",
       "Categories (7, interval[int64]): [(0, 5000] < (5000, 10000] < (10000, 15000] < (15000, 20000] < (20000, 25000] < (25000, 30000] < (30000, 35000]]"
      ]
     },
     "execution_count": 70,
     "metadata": {},
     "output_type": "execute_result"
    }
   ],
   "source": [
    "# create bins \n",
    "# plot the values:(0,5000], (5000,10000], (10000,15000], (15000,20000], (20000,25000], (25000,30000], (30000,35000]\n",
    "\n",
    "# defining the bins \n",
    "buy_bins = [0,5000,10000,15000,20000,25000,30000,35000]\n",
    "\n",
    "# replacing the values with the bins \n",
    "df_vis['Avg_Open_To_Buy'] = pd.cut(df_vis['Avg_Open_To_Buy'], bins = buy_bins)\n",
    "\n",
    "# seeing the values to make sure the bins look the way I desired\n",
    "df_vis['Avg_Open_To_Buy'].unique()"
   ]
  },
  {
   "cell_type": "code",
   "execution_count": 71,
   "metadata": {},
   "outputs": [
    {
     "data": {
      "image/png": "[encoded data removed]",
      "text/plain": [
       "<Figure size 720x576 with 1 Axes>"
      ]
     },
     "metadata": {},
     "output_type": "display_data"
    }
   ],
   "source": [
    "# plot\n",
    "x = 'Avg_Open_To_Buy'\n",
    "figsize = (10,8)\n",
    "\n",
    "create_plot(df_vis, x, figsize = figsize)"
   ]
  },
  {
   "cell_type": "markdown",
   "metadata": {},
   "source": [
    "Most of the people in the dataset fall in the range of 0 till 5,000 for the average open to buy feature."
   ]
  },
  {
   "cell_type": "markdown",
   "metadata": {},
   "source": [
    "<br /> \n",
    "\n",
    "#### Total_Amt_Chng_Q4_Q1"
   ]
  },
  {
   "cell_type": "code",
   "execution_count": 72,
   "metadata": {},
   "outputs": [
    {
     "data": {
      "text/plain": [
       "1158"
      ]
     },
     "execution_count": 72,
     "metadata": {},
     "output_type": "execute_result"
    }
   ],
   "source": [
    "# seeing how many distinct values there are in this feature\n",
    "len(df_vis['Total_Amt_Chng_Q4_Q1'].unique())"
   ]
  },
  {
   "cell_type": "code",
   "execution_count": 73,
   "metadata": {},
   "outputs": [
    {
     "data": {
      "text/plain": [
       "0.0"
      ]
     },
     "execution_count": 73,
     "metadata": {},
     "output_type": "execute_result"
    }
   ],
   "source": [
    "# seeing the min value\n",
    "df_vis['Total_Amt_Chng_Q4_Q1'].min()"
   ]
  },
  {
   "cell_type": "code",
   "execution_count": 74,
   "metadata": {},
   "outputs": [
    {
     "data": {
      "text/plain": [
       "3.397"
      ]
     },
     "execution_count": 74,
     "metadata": {},
     "output_type": "execute_result"
    }
   ],
   "source": [
    "# seeing the max value\n",
    "df_vis['Total_Amt_Chng_Q4_Q1'].max()"
   ]
  },
  {
   "cell_type": "code",
   "execution_count": 75,
   "metadata": {},
   "outputs": [
    {
     "data": {
      "text/plain": [
       "[(1.0, 1.5], (1.5, 2.0], (2.5, 3.0], (2.0, 2.5], (3.0, 3.5], (0.5, 1.0], (0.0, 0.5], NaN]\n",
       "Categories (7, interval[float64]): [(0.0, 0.5] < (0.5, 1.0] < (1.0, 1.5] < (1.5, 2.0] < (2.0, 2.5] < (2.5, 3.0] < (3.0, 3.5]]"
      ]
     },
     "execution_count": 75,
     "metadata": {},
     "output_type": "execute_result"
    }
   ],
   "source": [
    "# creating bins \n",
    "# plot the values: (0,0.5], (0.5,1], (1,1.5], (1.5,2], (2,2.5], (2.5,3], (3,3.5]\n",
    "\n",
    "# defining the bins\n",
    "total_amt_bins = [0,0.5, 1, 1.5, 2, 2.5, 3, 3.5]\n",
    "\n",
    "# replacing the values with the bins \n",
    "df_vis['Total_Amt_Chng_Q4_Q1'] = pd.cut(df_vis['Total_Amt_Chng_Q4_Q1'], bins = total_amt_bins)\n",
    "\n",
    "# seeing if the bins look the way I wanted \n",
    "df_vis['Total_Amt_Chng_Q4_Q1'].unique()"
   ]
  },
  {
   "cell_type": "code",
   "execution_count": 76,
   "metadata": {},
   "outputs": [
    {
     "data": {
      "image/png": "[encoded data removed]",
      "text/plain": [
       "<Figure size 720x576 with 1 Axes>"
      ]
     },
     "metadata": {},
     "output_type": "display_data"
    }
   ],
   "source": [
    "# plot \n",
    "x = 'Total_Amt_Chng_Q4_Q1'\n",
    "figsize = (10,8)\n",
    "\n",
    "create_plot(df_vis, x, figsize = figsize)"
   ]
  },
  {
   "cell_type": "markdown",
   "metadata": {},
   "source": [
    "Most of the people fall in the range of 0.5 till 1.0. None of the other bins contain anythin close to that bin"
   ]
  },
  {
   "cell_type": "markdown",
   "metadata": {},
   "source": [
    "<br /> \n",
    "\n",
    "#### Total_Trans_Amt"
   ]
  },
  {
   "cell_type": "code",
   "execution_count": 77,
   "metadata": {},
   "outputs": [
    {
     "data": {
      "text/plain": [
       "5033"
      ]
     },
     "execution_count": 77,
     "metadata": {},
     "output_type": "execute_result"
    }
   ],
   "source": [
    "# seeing how many distinct values there are in this feature\n",
    "len(df_vis['Total_Trans_Amt'].unique())"
   ]
  },
  {
   "cell_type": "code",
   "execution_count": 78,
   "metadata": {},
   "outputs": [
    {
     "data": {
      "text/plain": [
       "510"
      ]
     },
     "execution_count": 78,
     "metadata": {},
     "output_type": "execute_result"
    }
   ],
   "source": [
    "# seeing the min value in this feature \n",
    "df_vis['Total_Trans_Amt'].min()"
   ]
  },
  {
   "cell_type": "code",
   "execution_count": 79,
   "metadata": {},
   "outputs": [
    {
     "data": {
      "text/plain": [
       "18484"
      ]
     },
     "execution_count": 79,
     "metadata": {},
     "output_type": "execute_result"
    }
   ],
   "source": [
    "# seeing the max value in this feature \n",
    "df_vis['Total_Trans_Amt'].max()"
   ]
  },
  {
   "cell_type": "code",
   "execution_count": 80,
   "metadata": {},
   "outputs": [
    {
     "data": {
      "text/plain": [
       "[(0, 2000], (2000, 4000], (4000, 6000], (6000, 8000], (8000, 10000], (12000, 14000], (14000, 16000], (10000, 12000], (16000, 18000], (18000, 20000]]\n",
       "Categories (10, interval[int64]): [(0, 2000] < (2000, 4000] < (4000, 6000] < (6000, 8000] ... (12000, 14000] < (14000, 16000] < (16000, 18000] < (18000, 20000]]"
      ]
     },
     "execution_count": 80,
     "metadata": {},
     "output_type": "execute_result"
    }
   ],
   "source": [
    "# create bins \n",
    "# plot the values: (0,2000], (2000,4000], (4000,6000], (6000,8000], (8000,10000], (10000,12000], (12000,14000], \n",
    "# (14000,16000], (16000,18000], (18000,20000]\n",
    "\n",
    "# defining the bins \n",
    "total_trans_bins = [0, 2000, 4000, 6000, 8000, 10000, 12000, 14000, 16000, 18000, 20000]\n",
    "\n",
    "# replacing the values in the feature with the bins\n",
    "df_vis['Total_Trans_Amt'] = pd.cut(df_vis['Total_Trans_Amt'], bins = total_trans_bins)\n",
    "\n",
    "# making sure the bins look the way I wanted\n",
    "df_vis['Total_Trans_Amt'].unique()"
   ]
  },
  {
   "cell_type": "code",
   "execution_count": 81,
   "metadata": {},
   "outputs": [
    {
     "data": {
      "image/png": "[encoded data removed]",
      "text/plain": [
       "<Figure size 720x576 with 1 Axes>"
      ]
     },
     "metadata": {},
     "output_type": "display_data"
    }
   ],
   "source": [
    "# plot \n",
    "x = 'Total_Trans_Amt'\n",
    "figsize = (10,8)\n",
    "\n",
    "create_plot(df_vis, x, figsize = figsize)"
   ]
  },
  {
   "cell_type": "markdown",
   "metadata": {},
   "source": [
    "Most of the values fall in the range of 0 till 6000. The range were the most of the people churned were 2,000 till 4,000."
   ]
  },
  {
   "cell_type": "markdown",
   "metadata": {},
   "source": [
    "<br /> \n",
    "\n",
    "#### Total_Trans_Ct"
   ]
  },
  {
   "cell_type": "code",
   "execution_count": 82,
   "metadata": {},
   "outputs": [
    {
     "data": {
      "text/plain": [
       "126"
      ]
     },
     "execution_count": 82,
     "metadata": {},
     "output_type": "execute_result"
    }
   ],
   "source": [
    "# seeing how many distinct values this feature contains \n",
    "len(df_vis['Total_Trans_Ct'].unique())"
   ]
  },
  {
   "cell_type": "code",
   "execution_count": 83,
   "metadata": {},
   "outputs": [
    {
     "data": {
      "text/plain": [
       "10"
      ]
     },
     "execution_count": 83,
     "metadata": {},
     "output_type": "execute_result"
    }
   ],
   "source": [
    "# seeing the min value in the feature\n",
    "df_vis['Total_Trans_Ct'].min()"
   ]
  },
  {
   "cell_type": "code",
   "execution_count": 84,
   "metadata": {},
   "outputs": [
    {
     "data": {
      "text/plain": [
       "139"
      ]
     },
     "execution_count": 84,
     "metadata": {},
     "output_type": "execute_result"
    }
   ],
   "source": [
    "# seeing the max value in the feature\n",
    "df_vis['Total_Trans_Ct'].max()"
   ]
  },
  {
   "cell_type": "code",
   "execution_count": 85,
   "metadata": {},
   "outputs": [
    {
     "data": {
      "text/plain": [
       "[(40, 50], (30, 40], (10, 20], (20, 30], (50, 60], ..., (90, 100], (100, 110], (110, 120], (120, 130], (130, 140]]\n",
       "Length: 14\n",
       "Categories (14, interval[int64]): [(0, 10] < (10, 20] < (20, 30] < (30, 40] ... (100, 110] < (110, 120] < (120, 130] < (130, 140]]"
      ]
     },
     "execution_count": 85,
     "metadata": {},
     "output_type": "execute_result"
    }
   ],
   "source": [
    "# creating bins \n",
    "# plot the values: (0,10], (10,20], (20,30], (30,40], (40,50], (50,60], (60,70], (70,80], (80,90], (90,100], \n",
    "# (100,110], (110,120], (120,130], (130,140]\n",
    "\n",
    "# defining the bins \n",
    "total_trans_ct_bins = [0, 10, 20, 30, 40, 50, 60, 70, 80, 90, 100, 110, 120, 130, 140]\n",
    "\n",
    "# replacing the values in the feature with the bins \n",
    "df_vis['Total_Trans_Ct'] = pd.cut(df_vis['Total_Trans_Ct'], bins = total_trans_ct_bins)\n",
    "\n",
    "# seeing if the bins look the way I want them to look like \n",
    "df_vis['Total_Trans_Ct'].unique()"
   ]
  },
  {
   "cell_type": "code",
   "execution_count": 86,
   "metadata": {},
   "outputs": [
    {
     "data": {
      "image/png": "[encoded data removed]",
      "text/plain": [
       "<Figure size 1080x576 with 1 Axes>"
      ]
     },
     "metadata": {},
     "output_type": "display_data"
    }
   ],
   "source": [
    "# plot \n",
    "x = 'Total_Trans_Ct'\n",
    "figsize = (15,8)\n",
    "\n",
    "create_plot(df_vis, x, figsize = figsize)"
   ]
  },
  {
   "cell_type": "markdown",
   "metadata": {},
   "source": [
    "The chart looks somewhat similar to a bell curve. Most of the values fall in the range of 60 till 90. But the range that most of the churned individuals belong in is 30 till 50. "
   ]
  },
  {
   "cell_type": "markdown",
   "metadata": {},
   "source": [
    "<br /> \n",
    "\n",
    "#### Total_Ct_Chng_Q4_Q1"
   ]
  },
  {
   "cell_type": "code",
   "execution_count": 87,
   "metadata": {},
   "outputs": [
    {
     "data": {
      "text/plain": [
       "830"
      ]
     },
     "execution_count": 87,
     "metadata": {},
     "output_type": "execute_result"
    }
   ],
   "source": [
    "# seeing the number of distinct values in the feature \n",
    "len(df_vis['Total_Ct_Chng_Q4_Q1'].unique())"
   ]
  },
  {
   "cell_type": "code",
   "execution_count": 88,
   "metadata": {},
   "outputs": [
    {
     "data": {
      "text/plain": [
       "0.0"
      ]
     },
     "execution_count": 88,
     "metadata": {},
     "output_type": "execute_result"
    }
   ],
   "source": [
    "# seeing the min value\n",
    "df_vis['Total_Ct_Chng_Q4_Q1'].min()"
   ]
  },
  {
   "cell_type": "code",
   "execution_count": 89,
   "metadata": {},
   "outputs": [
    {
     "data": {
      "text/plain": [
       "3.714"
      ]
     },
     "execution_count": 89,
     "metadata": {},
     "output_type": "execute_result"
    }
   ],
   "source": [
    "# seeing the max value\n",
    "df_vis['Total_Ct_Chng_Q4_Q1'].max()"
   ]
  },
  {
   "cell_type": "code",
   "execution_count": 90,
   "metadata": {},
   "outputs": [
    {
     "data": {
      "text/plain": [
       "[(1.5, 2.0], (3.5, 4.0], (2.0, 2.5], (0.5, 1.0], (1.0, 1.5], (3.0, 3.5], (0.0, 0.5], (2.5, 3.0], NaN]\n",
       "Categories (8, interval[float64]): [(0.0, 0.5] < (0.5, 1.0] < (1.0, 1.5] < (1.5, 2.0] < (2.0, 2.5] < (2.5, 3.0] < (3.0, 3.5] < (3.5, 4.0]]"
      ]
     },
     "execution_count": 90,
     "metadata": {},
     "output_type": "execute_result"
    }
   ],
   "source": [
    "# creating bins \n",
    "# plot the values: (0,0.5], (0.5,1], (1,1.5], (1.5,2], (2,2.5], (2.5,3], (3,3.5], (3.5, 4.0]\n",
    "\n",
    "# defining the bins \n",
    "total_ct_bins = [0,0.5, 1, 1.5, 2, 2.5, 3, 3.5, 4]\n",
    "\n",
    "# replacing the values with the bins \n",
    "df_vis['Total_Ct_Chng_Q4_Q1'] = pd.cut(df_vis['Total_Ct_Chng_Q4_Q1'], bins = total_ct_bins)\n",
    "\n",
    "# making sure the bins look the way I desired\n",
    "df_vis['Total_Ct_Chng_Q4_Q1'].unique()"
   ]
  },
  {
   "cell_type": "code",
   "execution_count": 91,
   "metadata": {},
   "outputs": [
    {
     "data": {
      "image/png": "[encoded data removed]",
      "text/plain": [
       "<Figure size 720x576 with 1 Axes>"
      ]
     },
     "metadata": {},
     "output_type": "display_data"
    }
   ],
   "source": [
    "# plot \n",
    "x = 'Total_Ct_Chng_Q4_Q1'\n",
    "figsize = (10,8)\n",
    "\n",
    "create_plot(df_vis, x, figsize = figsize)"
   ]
  },
  {
   "cell_type": "markdown",
   "metadata": {},
   "source": [
    "Most of the people in this chart fall in the range of 0.5 till 1.0. Also interestingly enough the number of people who churned for the ranges 0.0 till 0.5 and 0.5 till 1.0 are very close to one another. "
   ]
  },
  {
   "cell_type": "markdown",
   "metadata": {},
   "source": [
    "<br /> \n",
    "\n",
    "#### Avg_Utilization_Ratio"
   ]
  },
  {
   "cell_type": "code",
   "execution_count": 92,
   "metadata": {},
   "outputs": [
    {
     "data": {
      "text/plain": [
       "964"
      ]
     },
     "execution_count": 92,
     "metadata": {},
     "output_type": "execute_result"
    }
   ],
   "source": [
    "# seeing how many distinct values there are in this feature\n",
    "len(df_vis['Avg_Utilization_Ratio'].unique())"
   ]
  },
  {
   "cell_type": "code",
   "execution_count": 93,
   "metadata": {},
   "outputs": [
    {
     "data": {
      "text/plain": [
       "0.0"
      ]
     },
     "execution_count": 93,
     "metadata": {},
     "output_type": "execute_result"
    }
   ],
   "source": [
    "# seiing the max values in the feature \n",
    "df_vis['Avg_Utilization_Ratio'].min()"
   ]
  },
  {
   "cell_type": "code",
   "execution_count": 94,
   "metadata": {},
   "outputs": [
    {
     "data": {
      "text/plain": [
       "0.9990000000000001"
      ]
     },
     "execution_count": 94,
     "metadata": {},
     "output_type": "execute_result"
    }
   ],
   "source": [
    "# seeing the max values in the feature \n",
    "df_vis['Avg_Utilization_Ratio'].max()"
   ]
  },
  {
   "cell_type": "code",
   "execution_count": 95,
   "metadata": {},
   "outputs": [
    {
     "data": {
      "text/plain": [
       "[(0.0, 0.1], (0.1, 0.2], NaN, (0.7, 0.8], (0.3, 0.4], ..., (0.6, 0.7], (0.5, 0.6], (0.8, 0.9], (0.4, 0.5], (0.9, 1.0]]\n",
       "Length: 11\n",
       "Categories (10, interval[float64]): [(0.0, 0.1] < (0.1, 0.2] < (0.2, 0.3] < (0.3, 0.4] ... (0.6, 0.7] < (0.7, 0.8] < (0.8, 0.9] < (0.9, 1.0]]"
      ]
     },
     "execution_count": 95,
     "metadata": {},
     "output_type": "execute_result"
    }
   ],
   "source": [
    "# creating bins \n",
    "# plot the values: (0,0.1], (0.1,0.2], (0.2,0.3], (0.3,0.4], (0.4,0.5], (0.5,0.6], (0.6,0.7], (0.7,0.8], (0.8,0.9], \n",
    "# (0.9,1]\n",
    "\n",
    "# defining the bins \n",
    "avg_utilization_bins = [0, 0.1, 0.2, 0.3, 0.4, 0.5, 0.6, 0.7, 0.8, 0.9, 1]\n",
    "\n",
    "# replacing the values with the bins \n",
    "df_vis['Avg_Utilization_Ratio'] = pd.cut(df_vis['Avg_Utilization_Ratio'], bins = avg_utilization_bins)\n",
    "\n",
    "# making sure the bins look the way I desired\n",
    "df_vis['Avg_Utilization_Ratio'].unique()"
   ]
  },
  {
   "cell_type": "code",
   "execution_count": 96,
   "metadata": {},
   "outputs": [
    {
     "data": {
      "image/png": "[encoded data removed]",
      "text/plain": [
       "<Figure size 720x576 with 1 Axes>"
      ]
     },
     "metadata": {},
     "output_type": "display_data"
    }
   ],
   "source": [
    "# plot \n",
    "x = 'Avg_Utilization_Ratio'\n",
    "figsize = (10,8)\n",
    "\n",
    "create_plot(df_vis, x, figsize = figsize)"
   ]
  },
  {
   "cell_type": "markdown",
   "metadata": {},
   "source": [
    "Most of the poeple fall in the range of 0.0 till 0.2. Also as the range increased the number of people who churned decreases. "
   ]
  },
  {
   "cell_type": "markdown",
   "metadata": {},
   "source": [
    "<br /> \n",
    "\n",
    "## MACHINE LEARNING "
   ]
  },
  {
   "cell_type": "markdown",
   "metadata": {},
   "source": [
    "Since the dataset is imbalanced I am more focused on the f-score than the accuracy."
   ]
  },
  {
   "cell_type": "code",
   "execution_count": 97,
   "metadata": {},
   "outputs": [],
   "source": [
    "# importing required library\n",
    "from sklearn.model_selection import StratifiedKFold"
   ]
  },
  {
   "cell_type": "code",
   "execution_count": 98,
   "metadata": {},
   "outputs": [
    {
     "data": {
      "text/plain": [
       "array(['Existing Customer', 'Attrited Customer'], dtype=object)"
      ]
     },
     "execution_count": 98,
     "metadata": {},
     "output_type": "execute_result"
    }
   ],
   "source": [
    "df['Attrition_Flag'].unique()"
   ]
  },
  {
   "cell_type": "code",
   "execution_count": 99,
   "metadata": {},
   "outputs": [
    {
     "data": {
      "text/plain": [
       "array([0, 1])"
      ]
     },
     "execution_count": 99,
     "metadata": {},
     "output_type": "execute_result"
    }
   ],
   "source": [
    "# convert attrition_flag to binary \n",
    "df['Attrition_Flag'].replace({'Existing Customer': 0, 'Attrited Customer': 1}, inplace = True)\n",
    "\n",
    "df['Attrition_Flag'].unique()"
   ]
  },
  {
   "cell_type": "markdown",
   "metadata": {},
   "source": [
    "<br />\n",
    "\n",
    "### TRAINING AND TESTING SET"
   ]
  },
  {
   "cell_type": "code",
   "execution_count": 100,
   "metadata": {},
   "outputs": [],
   "source": [
    "# a function that returns me the training and testing set\n",
    "def get_train_test(x,y, splits = 5):\n",
    "    skf = StratifiedKFold(n_splits = splits)\n",
    "    \n",
    "    for train_index, test_index in skf.split(x,y):\n",
    "        x_train, x_test = x.iloc[list(train_index)], x.iloc[list(test_index)]\n",
    "        y_train, y_test = y.iloc[list(train_index)], y.iloc[list(test_index)]\n",
    "    \n",
    "    return (x_train, x_test, y_train, y_test)"
   ]
  },
  {
   "cell_type": "markdown",
   "metadata": {},
   "source": [
    "<br /> \n",
    "\n",
    "### METRICS MEASURE "
   ]
  },
  {
   "cell_type": "code",
   "execution_count": 101,
   "metadata": {},
   "outputs": [],
   "source": [
    "# importing required libraries\n",
    "from sklearn.metrics import accuracy_score\n",
    "from sklearn.metrics import confusion_matrix"
   ]
  },
  {
   "cell_type": "code",
   "execution_count": 102,
   "metadata": {},
   "outputs": [],
   "source": [
    "# get the sensitivity\n",
    "def get_sensitivity(tp, fn):\n",
    "    return (tp/(tp + fn))"
   ]
  },
  {
   "cell_type": "code",
   "execution_count": 103,
   "metadata": {},
   "outputs": [],
   "source": [
    "# get the specificity \n",
    "def get_specificity(tn, fp):\n",
    "    return (tn/(tn + fp))"
   ]
  },
  {
   "cell_type": "code",
   "execution_count": 104,
   "metadata": {},
   "outputs": [],
   "source": [
    "# get the f score\n",
    "def get_f_score(tp, fp, fn):\n",
    "    precision = (tp/(tp + fp))\n",
    "    recall = get_sensitivity(tp, fn)\n",
    "    f_score = 2 * ((precision * recall)/ (precision + recall))\n",
    "    return f_score"
   ]
  },
  {
   "cell_type": "code",
   "execution_count": 105,
   "metadata": {},
   "outputs": [],
   "source": [
    "# use this function to get the accuraccy, sensitivty, specificity, and f-score of a model \n",
    "def get_metrics(y_test, y_pred):\n",
    "    # getting the accuracy \n",
    "    accuracy = accuracy_score(y_test, y_pred)\n",
    "\n",
    "    # getting the confusion matrix\n",
    "    matrix = confusion_matrix(y_test, y_pred)\n",
    "\n",
    "    # storing the tp, fp, tn, fn values\n",
    "    tp = matrix[1][1]\n",
    "    fn = matrix[1][0]\n",
    "    tn = matrix[0][0]\n",
    "    fp = matrix[0][1]\n",
    "\n",
    "    # passing tp, fp, tn, and fn into the metric functions created\n",
    "    sensitivity = get_sensitivity(tp, fn)\n",
    "    specificity = get_specificity(tn, fp)\n",
    "    f_score = get_f_score(tp, fp, fn)\n",
    "\n",
    "    # return the values\n",
    "    return [accuracy, sensitivity, specificity, f_score]"
   ]
  },
  {
   "cell_type": "markdown",
   "metadata": {},
   "source": [
    "<br /> \n",
    "\n",
    "### PIPELINE STAGE 1: ONE HOT ENCODING/SCALING"
   ]
  },
  {
   "cell_type": "code",
   "execution_count": 106,
   "metadata": {},
   "outputs": [],
   "source": [
    "from sklearn.compose import make_column_transformer\n",
    "from sklearn.preprocessing import OneHotEncoder\n",
    "from sklearn.preprocessing import StandardScaler"
   ]
  },
  {
   "cell_type": "code",
   "execution_count": 107,
   "metadata": {},
   "outputs": [
    {
     "name": "stdout",
     "output_type": "stream",
     "text": [
      "<class 'pandas.core.frame.DataFrame'>\n",
      "RangeIndex: 10127 entries, 0 to 10126\n",
      "Data columns (total 20 columns):\n",
      " #   Column                    Non-Null Count  Dtype  \n",
      "---  ------                    --------------  -----  \n",
      " 0   Attrition_Flag            10127 non-null  int64  \n",
      " 1   Customer_Age              10127 non-null  int64  \n",
      " 2   Gender                    10127 non-null  int64  \n",
      " 3   Dependent_count           10127 non-null  int64  \n",
      " 4   Education_Level           10127 non-null  object \n",
      " 5   Marital_Status            10127 non-null  object \n",
      " 6   Income_Category           10127 non-null  object \n",
      " 7   Card_Category             10127 non-null  object \n",
      " 8   Months_on_book            10127 non-null  int64  \n",
      " 9   Total_Relationship_Count  10127 non-null  int64  \n",
      " 10  Months_Inactive_12_mon    10127 non-null  int64  \n",
      " 11  Contacts_Count_12_mon     10127 non-null  int64  \n",
      " 12  Credit_Limit              10127 non-null  float64\n",
      " 13  Total_Revolving_Bal       10127 non-null  int64  \n",
      " 14  Avg_Open_To_Buy           10127 non-null  float64\n",
      " 15  Total_Amt_Chng_Q4_Q1      10127 non-null  float64\n",
      " 16  Total_Trans_Amt           10127 non-null  int64  \n",
      " 17  Total_Trans_Ct            10127 non-null  int64  \n",
      " 18  Total_Ct_Chng_Q4_Q1       10127 non-null  float64\n",
      " 19  Avg_Utilization_Ratio     10127 non-null  float64\n",
      "dtypes: float64(5), int64(11), object(4)\n",
      "memory usage: 1.5+ MB\n"
     ]
    }
   ],
   "source": [
    "df.info()"
   ]
  },
  {
   "cell_type": "code",
   "execution_count": 108,
   "metadata": {},
   "outputs": [],
   "source": [
    "def get_one_hot_encoder(features):\n",
    "    one_hot_encoder = make_column_transformer(\n",
    "        (OneHotEncoder(), features),\n",
    "        remainder = StandardScaler()\n",
    "    )\n",
    "    return one_hot_encoder"
   ]
  },
  {
   "cell_type": "markdown",
   "metadata": {},
   "source": [
    "<br /> \n",
    "\n",
    "### PIPELINE STAGE 2: MODEL (WITHOUT HYPERPARAMETER TUNING/ FEATURE SELECTION)"
   ]
  },
  {
   "cell_type": "code",
   "execution_count": 109,
   "metadata": {},
   "outputs": [],
   "source": [
    "# import required library \n",
    "from sklearn.linear_model import LogisticRegression\n",
    "from sklearn.tree import DecisionTreeClassifier\n",
    "from sklearn.ensemble import RandomForestClassifier\n",
    "from sklearn.pipeline import make_pipeline"
   ]
  },
  {
   "cell_type": "code",
   "execution_count": 110,
   "metadata": {},
   "outputs": [],
   "source": [
    "# getting training and testing set of all of the features \n",
    "(x_train, x_test, y_train, y_test) = get_train_test(df.drop(columns = ['Attrition_Flag']),\n",
    "                                                    df['Attrition_Flag'], \n",
    "                                                    5\n",
    "                                                   )"
   ]
  },
  {
   "cell_type": "code",
   "execution_count": 111,
   "metadata": {},
   "outputs": [],
   "source": [
    "# getting the one_hot_encoder for the features that contain string values \n",
    "features = ['Education_Level', 'Marital_Status', 'Income_Category', 'Card_Category']\n",
    "one_hot_encoder = get_one_hot_encoder(features)"
   ]
  },
  {
   "cell_type": "code",
   "execution_count": 112,
   "metadata": {},
   "outputs": [],
   "source": [
    "# training the pipeline and using it to predict and returning the metrics measures\n",
    "def get_model_info(one_hot_encoder, technique, x_train, x_test, y_train, y_test, print_values = 'yes'):\n",
    "    # creating the pipeline\n",
    "    pipe = make_pipeline(one_hot_encoder, technique)\n",
    "    \n",
    "    # creating the model with the pipeline\n",
    "    model = pipe.fit(x_train, y_train)\n",
    "    \n",
    "    # predicting using the pipeline model \n",
    "    y_pred = model.predict(x_test)\n",
    "    \n",
    "    # obtain the metrics measures \n",
    "    results = get_metrics(y_test, y_pred)\n",
    "    \n",
    "    # print them out\n",
    "    if print_values == 'yes':\n",
    "        print('Accuracy: ' + str(results[0])+\n",
    "              '\\nsensitivity: ' + str(results[1]) + \n",
    "              '\\nSpecificity: '+ str(results[2]) + \n",
    "              '\\nF-Score: '+ str(results[3])\n",
    "             )\n",
    "    else:\n",
    "        return results"
   ]
  },
  {
   "cell_type": "markdown",
   "metadata": {},
   "source": [
    "<br /> \n",
    "\n",
    "#### Pipeline with Logistic Regression Estimator Accuracy, Sensitivity, Specificity, and F-Score"
   ]
  },
  {
   "cell_type": "code",
   "execution_count": 113,
   "metadata": {},
   "outputs": [
    {
     "name": "stdout",
     "output_type": "stream",
     "text": [
      "Accuracy: 0.8622222222222222\n",
      "sensitivity: 0.16923076923076924\n",
      "Specificity: 0.9947058823529412\n",
      "F-Score: 0.2827763496143959\n"
     ]
    }
   ],
   "source": [
    "get_model_info(one_hot_encoder, LogisticRegression(max_iter = 500), x_train, x_test, y_train, y_test)"
   ]
  },
  {
   "cell_type": "markdown",
   "metadata": {},
   "source": [
    "<br />\n",
    "\n",
    "#### Pipeline with Decision Tree Estimator Accuracy, Sensitivity, Specificity, and F-Score"
   ]
  },
  {
   "cell_type": "code",
   "execution_count": 114,
   "metadata": {},
   "outputs": [
    {
     "name": "stdout",
     "output_type": "stream",
     "text": [
      "Accuracy: 0.8538271604938271\n",
      "sensitivity: 0.13846153846153847\n",
      "Specificity: 0.9905882352941177\n",
      "F-Score: 0.23316062176165803\n"
     ]
    }
   ],
   "source": [
    "get_model_info(one_hot_encoder, DecisionTreeClassifier(), x_train, x_test, y_train, y_test)"
   ]
  },
  {
   "cell_type": "markdown",
   "metadata": {},
   "source": [
    "<br /> \n",
    "\n",
    "#### Pipeline with Random Forest Estimator Accuracy, Sensitivity, Specificity, and F-Score"
   ]
  },
  {
   "cell_type": "code",
   "execution_count": 115,
   "metadata": {},
   "outputs": [
    {
     "name": "stdout",
     "output_type": "stream",
     "text": [
      "Accuracy: 0.8483950617283951\n",
      "sensitivity: 0.06461538461538462\n",
      "Specificity: 0.9982352941176471\n",
      "F-Score: 0.12034383954154727\n"
     ]
    }
   ],
   "source": [
    "get_model_info(one_hot_encoder, RandomForestClassifier(), x_train, x_test, y_train, y_test)"
   ]
  },
  {
   "cell_type": "markdown",
   "metadata": {},
   "source": [
    "<br /> \n",
    "\n",
    "### FEATURE SELECTION\n",
    "\n",
    "Trying to increase f-score. The __highest f-score achieved thus far has been 28% with the pipeline using the Logistic Regression as its estimator__"
   ]
  },
  {
   "cell_type": "markdown",
   "metadata": {},
   "source": [
    "<br /> \n",
    "\n",
    "#### Removing Card_Category"
   ]
  },
  {
   "cell_type": "code",
   "execution_count": 116,
   "metadata": {},
   "outputs": [],
   "source": [
    "# removing the features from the features\n",
    "x = df.drop(columns = ['Card_Category', 'Attrition_Flag'])\n",
    "y = df['Attrition_Flag']\n",
    "\n",
    "# getting the training and testing set \n",
    "(x_train, x_test, y_train, y_test) = get_train_test(x,y)"
   ]
  },
  {
   "cell_type": "code",
   "execution_count": 117,
   "metadata": {},
   "outputs": [],
   "source": [
    "# adjusting the one_hot_encoder for the features since I am removing Card_Category from the features list\n",
    "features = ['Education_Level', 'Marital_Status', 'Income_Category']\n",
    "one_hot_encoder = get_one_hot_encoder(features)"
   ]
  },
  {
   "cell_type": "code",
   "execution_count": 118,
   "metadata": {},
   "outputs": [
    {
     "name": "stdout",
     "output_type": "stream",
     "text": [
      "Logisitic Regression:\n",
      "Accuracy: 0.8612345679012345\n",
      "sensitivity: 0.16307692307692306\n",
      "Specificity: 0.9947058823529412\n",
      "F-Score: 0.2739018087855297\n",
      "\n",
      "Decision Tree\n",
      "Accuracy: 0.8508641975308642\n",
      "sensitivity: 0.11692307692307692\n",
      "Specificity: 0.9911764705882353\n",
      "F-Score: 0.20105820105820105\n",
      "\n",
      "Random Forest\n",
      "Accuracy: 0.845925925925926\n",
      "sensitivity: 0.04923076923076923\n",
      "Specificity: 0.9982352941176471\n",
      "F-Score: 0.0930232558139535\n"
     ]
    }
   ],
   "source": [
    "print('Logisitic Regression:')\n",
    "get_model_info(one_hot_encoder, LogisticRegression(max_iter = 500), x_train, x_test, y_train, y_test)\n",
    "\n",
    "print()\n",
    "\n",
    "print('Decision Tree')\n",
    "get_model_info(one_hot_encoder, DecisionTreeClassifier(), x_train, x_test, y_train, y_test)\n",
    "\n",
    "print()\n",
    "\n",
    "print('Random Forest')\n",
    "get_model_info(one_hot_encoder, RandomForestClassifier(), x_train, x_test, y_train, y_test)"
   ]
  },
  {
   "cell_type": "markdown",
   "metadata": {},
   "source": [
    "<br /> \n",
    "\n",
    "#### Removing Customer_Age and Gender"
   ]
  },
  {
   "cell_type": "code",
   "execution_count": 119,
   "metadata": {},
   "outputs": [],
   "source": [
    "# removing the features from the features\n",
    "x = df.drop(columns = ['Customer_Age', 'Gender','Attrition_Flag'])\n",
    "\n",
    "# getting the training and testing set \n",
    "(x_train, x_test, y_train, y_test) = get_train_test(x,y)"
   ]
  },
  {
   "cell_type": "code",
   "execution_count": 120,
   "metadata": {},
   "outputs": [],
   "source": [
    "# adjusting the one_hot_encoder \n",
    "features = ['Education_Level', 'Marital_Status', 'Income_Category', 'Card_Category']\n",
    "one_hot_encoder = get_one_hot_encoder(features)"
   ]
  },
  {
   "cell_type": "code",
   "execution_count": 121,
   "metadata": {},
   "outputs": [
    {
     "name": "stdout",
     "output_type": "stream",
     "text": [
      "Logisitic Regression:\n",
      "Accuracy: 0.8661728395061729\n",
      "sensitivity: 0.19076923076923077\n",
      "Specificity: 0.9952941176470588\n",
      "F-Score: 0.3139240506329114\n",
      "\n",
      "Decision Tree\n",
      "Accuracy: 0.854320987654321\n",
      "sensitivity: 0.13846153846153847\n",
      "Specificity: 0.9911764705882353\n",
      "F-Score: 0.2337662337662338\n",
      "\n",
      "Random Forest\n",
      "Accuracy: 0.8479012345679012\n",
      "sensitivity: 0.06153846153846154\n",
      "Specificity: 0.9982352941176471\n",
      "F-Score: 0.11494252873563218\n"
     ]
    }
   ],
   "source": [
    "print('Logisitic Regression:')\n",
    "get_model_info(one_hot_encoder, LogisticRegression(max_iter = 500), x_train, x_test, y_train, y_test)\n",
    "\n",
    "print()\n",
    "\n",
    "print('Decision Tree')\n",
    "get_model_info(one_hot_encoder, DecisionTreeClassifier(), x_train, x_test, y_train, y_test)\n",
    "\n",
    "print()\n",
    "\n",
    "print('Random Forest')\n",
    "get_model_info(one_hot_encoder, RandomForestClassifier(), x_train, x_test, y_train, y_test)"
   ]
  },
  {
   "cell_type": "markdown",
   "metadata": {},
   "source": [
    "<br /> \n",
    "\n",
    "\n",
    "#### Removing Gender, Education_Level, Dependent_count, Income_Category and Marital_Status\n",
    "\n",
    "The reason I am not including Age is because there are alot of people of different ages so I want to incorpate that feature"
   ]
  },
  {
   "cell_type": "code",
   "execution_count": 122,
   "metadata": {},
   "outputs": [],
   "source": [
    "# removing the features from the features\n",
    "x = df.drop(columns = ['Dependent_count',\n",
    "                       'Gender', \n",
    "                       'Education_Level',\n",
    "                       'Marital_Status',\n",
    "                       'Income_Category',\n",
    "                       'Attrition_Flag']\n",
    "           )\n",
    "\n",
    "# getting the training and testing set \n",
    "(x_train, x_test, y_train, y_test) = get_train_test(x,y)"
   ]
  },
  {
   "cell_type": "code",
   "execution_count": 123,
   "metadata": {},
   "outputs": [],
   "source": [
    "# adjusting the one_hot_encoder \n",
    "features = ['Card_Category']\n",
    "one_hot_encoder = get_one_hot_encoder(features)"
   ]
  },
  {
   "cell_type": "code",
   "execution_count": 124,
   "metadata": {},
   "outputs": [
    {
     "name": "stdout",
     "output_type": "stream",
     "text": [
      "Logisitic Regression:\n",
      "Accuracy: 0.8755555555555555\n",
      "sensitivity: 0.25846153846153846\n",
      "Specificity: 0.9935294117647059\n",
      "F-Score: 0.4\n",
      "\n",
      "Decision Tree\n",
      "Accuracy: 0.8538271604938271\n",
      "sensitivity: 0.13846153846153847\n",
      "Specificity: 0.9905882352941177\n",
      "F-Score: 0.23316062176165803\n",
      "\n",
      "Random Forest\n",
      "Accuracy: 0.8474074074074074\n",
      "sensitivity: 0.05846153846153846\n",
      "Specificity: 0.9982352941176471\n",
      "F-Score: 0.1095100864553314\n"
     ]
    }
   ],
   "source": [
    "print('Logisitic Regression:')\n",
    "get_model_info(one_hot_encoder, LogisticRegression(max_iter = 500), x_train, x_test, y_train, y_test)\n",
    "\n",
    "print()\n",
    "\n",
    "print('Decision Tree')\n",
    "get_model_info(one_hot_encoder, DecisionTreeClassifier(), x_train, x_test, y_train, y_test)\n",
    "\n",
    "print()\n",
    "\n",
    "print('Random Forest')\n",
    "get_model_info(one_hot_encoder, RandomForestClassifier(), x_train, x_test, y_train, y_test)"
   ]
  },
  {
   "cell_type": "code",
   "execution_count": 125,
   "metadata": {},
   "outputs": [
    {
     "data": {
      "text/plain": [
       "Index(['Attrition_Flag', 'Customer_Age', 'Card_Category', 'Months_on_book',\n",
       "       'Total_Relationship_Count', 'Months_Inactive_12_mon',\n",
       "       'Contacts_Count_12_mon', 'Credit_Limit', 'Total_Revolving_Bal',\n",
       "       'Avg_Open_To_Buy', 'Total_Amt_Chng_Q4_Q1', 'Total_Trans_Amt',\n",
       "       'Total_Trans_Ct', 'Total_Ct_Chng_Q4_Q1', 'Avg_Utilization_Ratio'],\n",
       "      dtype='object')"
      ]
     },
     "execution_count": 125,
     "metadata": {},
     "output_type": "execute_result"
    }
   ],
   "source": [
    "# removing Gender, Education_Level, Dependent_count, Income_Category and Marital_Status\n",
    "df.drop(columns = ['Dependent_count','Gender', 'Education_Level', 'Marital_Status', 'Income_Category'], \n",
    "        inplace = True)\n",
    "\n",
    "# viewing the remaining columns\n",
    "df.columns"
   ]
  },
  {
   "cell_type": "markdown",
   "metadata": {},
   "source": [
    "<br /> \n",
    "\n",
    "### HYPERPARAMETER TUNING"
   ]
  },
  {
   "cell_type": "markdown",
   "metadata": {},
   "source": [
    "<br /> \n",
    "\n",
    "#### Finding The Best C value"
   ]
  },
  {
   "cell_type": "code",
   "execution_count": 126,
   "metadata": {},
   "outputs": [],
   "source": [
    "# getting the training and testing set\n",
    "x = df.drop(columns = ['Attrition_Flag'])\n",
    "y = df['Attrition_Flag']\n",
    "\n",
    "(x_train, x_test, y_train, y_test) = get_train_test(x, y)"
   ]
  },
  {
   "cell_type": "code",
   "execution_count": 127,
   "metadata": {},
   "outputs": [],
   "source": [
    "# increasing the C parameter to see if the sensitivity increases\n",
    "c_list = [*(range(1,10,1)), *(range(10,101,10))]\n",
    "Accuracy = []\n",
    "Sensitivity = []\n",
    "Specificity = []\n",
    "F_score = []\n",
    "log_hyper_results = pd.DataFrame()\n",
    "\n",
    "for c in c_list:\n",
    "    results = get_model_info(one_hot_encoder, \n",
    "                             LogisticRegression(max_iter = 500, C = c), \n",
    "                             x_train, x_test, y_train, y_test,\n",
    "                             print_values = 'no'\n",
    "                            )\n",
    "    Accuracy.append(results[0])\n",
    "    Sensitivity.append(results[1])\n",
    "    Specificity.append(results[2])\n",
    "    F_score.append(results[3])\n",
    "\n",
    "\n",
    "    \n",
    "# place the values inside of the DataFrame \n",
    "log_hyper_results['C_list'] = c_list\n",
    "log_hyper_results['Accuracy'] = Accuracy\n",
    "log_hyper_results['Sensitivity'] = Sensitivity\n",
    "log_hyper_results['Specificity'] = Specificity\n",
    "log_hyper_results['F_score'] = F_score"
   ]
  },
  {
   "cell_type": "code",
   "execution_count": 128,
   "metadata": {},
   "outputs": [
    {
     "data": {
      "text/html": [
       "<div>\n",
       "<style scoped>\n",
       "    .dataframe tbody tr th:only-of-type {\n",
       "        vertical-align: middle;\n",
       "    }\n",
       "\n",
       "    .dataframe tbody tr th {\n",
       "        vertical-align: top;\n",
       "    }\n",
       "\n",
       "    .dataframe thead th {\n",
       "        text-align: right;\n",
       "    }\n",
       "</style>\n",
       "<table border=\"1\" class=\"dataframe\">\n",
       "  <thead>\n",
       "    <tr style=\"text-align: right;\">\n",
       "      <th></th>\n",
       "      <th>C_list</th>\n",
       "      <th>Accuracy</th>\n",
       "      <th>Sensitivity</th>\n",
       "      <th>Specificity</th>\n",
       "      <th>F_score</th>\n",
       "    </tr>\n",
       "  </thead>\n",
       "  <tbody>\n",
       "    <tr>\n",
       "      <th>0</th>\n",
       "      <td>1</td>\n",
       "      <td>0.875556</td>\n",
       "      <td>0.258462</td>\n",
       "      <td>0.993529</td>\n",
       "      <td>0.400000</td>\n",
       "    </tr>\n",
       "    <tr>\n",
       "      <th>1</th>\n",
       "      <td>2</td>\n",
       "      <td>0.876049</td>\n",
       "      <td>0.264615</td>\n",
       "      <td>0.992941</td>\n",
       "      <td>0.406619</td>\n",
       "    </tr>\n",
       "    <tr>\n",
       "      <th>2</th>\n",
       "      <td>3</td>\n",
       "      <td>0.876049</td>\n",
       "      <td>0.264615</td>\n",
       "      <td>0.992941</td>\n",
       "      <td>0.406619</td>\n",
       "    </tr>\n",
       "    <tr>\n",
       "      <th>3</th>\n",
       "      <td>4</td>\n",
       "      <td>0.877037</td>\n",
       "      <td>0.270769</td>\n",
       "      <td>0.992941</td>\n",
       "      <td>0.414118</td>\n",
       "    </tr>\n",
       "    <tr>\n",
       "      <th>4</th>\n",
       "      <td>5</td>\n",
       "      <td>0.876543</td>\n",
       "      <td>0.270769</td>\n",
       "      <td>0.992353</td>\n",
       "      <td>0.413146</td>\n",
       "    </tr>\n",
       "  </tbody>\n",
       "</table>\n",
       "</div>"
      ],
      "text/plain": [
       "   C_list  Accuracy  Sensitivity  Specificity   F_score\n",
       "0       1  0.875556     0.258462     0.993529  0.400000\n",
       "1       2  0.876049     0.264615     0.992941  0.406619\n",
       "2       3  0.876049     0.264615     0.992941  0.406619\n",
       "3       4  0.877037     0.270769     0.992941  0.414118\n",
       "4       5  0.876543     0.270769     0.992353  0.413146"
      ]
     },
     "execution_count": 128,
     "metadata": {},
     "output_type": "execute_result"
    }
   ],
   "source": [
    "# seeing what the dataframe looks like\n",
    "log_hyper_results.head()"
   ]
  },
  {
   "cell_type": "code",
   "execution_count": 129,
   "metadata": {},
   "outputs": [
    {
     "data": {
      "text/html": [
       "<div>\n",
       "<style scoped>\n",
       "    .dataframe tbody tr th:only-of-type {\n",
       "        vertical-align: middle;\n",
       "    }\n",
       "\n",
       "    .dataframe tbody tr th {\n",
       "        vertical-align: top;\n",
       "    }\n",
       "\n",
       "    .dataframe thead th {\n",
       "        text-align: right;\n",
       "    }\n",
       "</style>\n",
       "<table border=\"1\" class=\"dataframe\">\n",
       "  <thead>\n",
       "    <tr style=\"text-align: right;\">\n",
       "      <th></th>\n",
       "      <th>C_list</th>\n",
       "      <th>Accuracy</th>\n",
       "      <th>Sensitivity</th>\n",
       "      <th>Specificity</th>\n",
       "      <th>F_score</th>\n",
       "    </tr>\n",
       "  </thead>\n",
       "  <tbody>\n",
       "    <tr>\n",
       "      <th>12</th>\n",
       "      <td>40</td>\n",
       "      <td>0.876543</td>\n",
       "      <td>0.273846</td>\n",
       "      <td>0.991765</td>\n",
       "      <td>0.415888</td>\n",
       "    </tr>\n",
       "    <tr>\n",
       "      <th>13</th>\n",
       "      <td>50</td>\n",
       "      <td>0.876543</td>\n",
       "      <td>0.273846</td>\n",
       "      <td>0.991765</td>\n",
       "      <td>0.415888</td>\n",
       "    </tr>\n",
       "    <tr>\n",
       "      <th>14</th>\n",
       "      <td>60</td>\n",
       "      <td>0.876543</td>\n",
       "      <td>0.273846</td>\n",
       "      <td>0.991765</td>\n",
       "      <td>0.415888</td>\n",
       "    </tr>\n",
       "    <tr>\n",
       "      <th>15</th>\n",
       "      <td>70</td>\n",
       "      <td>0.876543</td>\n",
       "      <td>0.273846</td>\n",
       "      <td>0.991765</td>\n",
       "      <td>0.415888</td>\n",
       "    </tr>\n",
       "    <tr>\n",
       "      <th>16</th>\n",
       "      <td>80</td>\n",
       "      <td>0.876543</td>\n",
       "      <td>0.273846</td>\n",
       "      <td>0.991765</td>\n",
       "      <td>0.415888</td>\n",
       "    </tr>\n",
       "    <tr>\n",
       "      <th>17</th>\n",
       "      <td>90</td>\n",
       "      <td>0.876543</td>\n",
       "      <td>0.273846</td>\n",
       "      <td>0.991765</td>\n",
       "      <td>0.415888</td>\n",
       "    </tr>\n",
       "    <tr>\n",
       "      <th>18</th>\n",
       "      <td>100</td>\n",
       "      <td>0.876543</td>\n",
       "      <td>0.273846</td>\n",
       "      <td>0.991765</td>\n",
       "      <td>0.415888</td>\n",
       "    </tr>\n",
       "    <tr>\n",
       "      <th>3</th>\n",
       "      <td>4</td>\n",
       "      <td>0.877037</td>\n",
       "      <td>0.270769</td>\n",
       "      <td>0.992941</td>\n",
       "      <td>0.414118</td>\n",
       "    </tr>\n",
       "    <tr>\n",
       "      <th>4</th>\n",
       "      <td>5</td>\n",
       "      <td>0.876543</td>\n",
       "      <td>0.270769</td>\n",
       "      <td>0.992353</td>\n",
       "      <td>0.413146</td>\n",
       "    </tr>\n",
       "    <tr>\n",
       "      <th>5</th>\n",
       "      <td>6</td>\n",
       "      <td>0.876543</td>\n",
       "      <td>0.270769</td>\n",
       "      <td>0.992353</td>\n",
       "      <td>0.413146</td>\n",
       "    </tr>\n",
       "  </tbody>\n",
       "</table>\n",
       "</div>"
      ],
      "text/plain": [
       "    C_list  Accuracy  Sensitivity  Specificity   F_score\n",
       "12      40  0.876543     0.273846     0.991765  0.415888\n",
       "13      50  0.876543     0.273846     0.991765  0.415888\n",
       "14      60  0.876543     0.273846     0.991765  0.415888\n",
       "15      70  0.876543     0.273846     0.991765  0.415888\n",
       "16      80  0.876543     0.273846     0.991765  0.415888\n",
       "17      90  0.876543     0.273846     0.991765  0.415888\n",
       "18     100  0.876543     0.273846     0.991765  0.415888\n",
       "3        4  0.877037     0.270769     0.992941  0.414118\n",
       "4        5  0.876543     0.270769     0.992353  0.413146\n",
       "5        6  0.876543     0.270769     0.992353  0.413146"
      ]
     },
     "execution_count": 129,
     "metadata": {},
     "output_type": "execute_result"
    }
   ],
   "source": [
    "# seeing the 10 largest F_scores to see which one is the best\n",
    "log_hyper_results.nlargest(10, 'F_score')"
   ]
  },
  {
   "cell_type": "markdown",
   "metadata": {},
   "source": [
    "<br /> \n",
    "\n",
    "### BAGGING"
   ]
  },
  {
   "cell_type": "code",
   "execution_count": 130,
   "metadata": {},
   "outputs": [],
   "source": [
    "# importing required library\n",
    "from sklearn.ensemble import BaggingClassifier"
   ]
  },
  {
   "cell_type": "code",
   "execution_count": 131,
   "metadata": {},
   "outputs": [
    {
     "name": "stdout",
     "output_type": "stream",
     "text": [
      "Accuracy: 0.8750617283950617\n",
      "sensitivity: 0.27692307692307694\n",
      "Specificity: 0.9894117647058823\n",
      "F-Score: 0.41570438799076215\n"
     ]
    }
   ],
   "source": [
    "# trying out 5 estimators of Logistic regression \n",
    "get_model_info(one_hot_encoder, \n",
    "               BaggingClassifier(base_estimator = LogisticRegression(max_iter = 500, C = 40), \n",
    "                                                 n_estimators = 5\n",
    "                                                 ),\n",
    "               x_train, \n",
    "               x_test, \n",
    "               y_train,\n",
    "               y_test\n",
    "              )"
   ]
  },
  {
   "cell_type": "code",
   "execution_count": 135,
   "metadata": {},
   "outputs": [],
   "source": [
    "# trying to figure out what is the best number of estimators to use\n",
    "n_list = []\n",
    "Accuracy = []\n",
    "Sensitivity = []\n",
    "Specificity = []\n",
    "F_score = []\n",
    "c_list = []\n",
    "bagging_results = pd.DataFrame()\n",
    "\n",
    "# since the F-score and sensitivity of 40, 50, 60, 70, 80, 90, 100 are the same trying to see if using bagging will \n",
    "# give me different results for the C values or the same \n",
    "for c in range(40, 101, 10):\n",
    "    for n in range(2,21,1):\n",
    "        temp_Accuracy = []\n",
    "        temp_Sensitivity = []\n",
    "        temp_Specificity = []\n",
    "        temp_F_score = []\n",
    "        \n",
    "        # run it 10 times\n",
    "        for i in range(1,11, 1): \n",
    "            results = get_model_info(one_hot_encoder, \n",
    "                       BaggingClassifier(base_estimator = LogisticRegression(max_iter = 500, C = c), \n",
    "                                                         n_estimators = n\n",
    "                                                         ),\n",
    "                                     x_train, \n",
    "                                     x_test, \n",
    "                                     y_train,\n",
    "                                     y_test,\n",
    "                                     print_values = 'no'\n",
    "                      )\n",
    "            # store the measures\n",
    "            temp_Accuracy.append(results[0])\n",
    "            temp_Sensitivity.append(results[1])\n",
    "            temp_Specificity.append(results[2])\n",
    "            temp_F_score.append(results[3])\n",
    "        \n",
    "        # store the mean of the measures \n",
    "        n_list.append(n)\n",
    "        c_list.append(c)\n",
    "        Accuracy.append(sum(temp_Accuracy)/len(temp_Accuracy))\n",
    "        Sensitivity.append(sum(temp_Sensitivity)/len(temp_Sensitivity))\n",
    "        Specificity.append(sum(temp_Specificity)/len(temp_Specificity))\n",
    "        F_score.append(sum(temp_F_score)/len(temp_F_score))\n",
    "\n",
    "\n",
    "    \n",
    "# place the values inside of the DataFrame \n",
    "bagging_results['C'] = c_list\n",
    "bagging_results['n_list'] = n_list\n",
    "bagging_results['Accuracy'] = Accuracy\n",
    "bagging_results['Sensitivity'] = Sensitivity\n",
    "bagging_results['Specificity'] = Specificity\n",
    "bagging_results['F_score'] = F_score"
   ]
  },
  {
   "cell_type": "code",
   "execution_count": 136,
   "metadata": {},
   "outputs": [
    {
     "data": {
      "text/html": [
       "<div>\n",
       "<style scoped>\n",
       "    .dataframe tbody tr th:only-of-type {\n",
       "        vertical-align: middle;\n",
       "    }\n",
       "\n",
       "    .dataframe tbody tr th {\n",
       "        vertical-align: top;\n",
       "    }\n",
       "\n",
       "    .dataframe thead th {\n",
       "        text-align: right;\n",
       "    }\n",
       "</style>\n",
       "<table border=\"1\" class=\"dataframe\">\n",
       "  <thead>\n",
       "    <tr style=\"text-align: right;\">\n",
       "      <th></th>\n",
       "      <th>C</th>\n",
       "      <th>n_list</th>\n",
       "      <th>Accuracy</th>\n",
       "      <th>Sensitivity</th>\n",
       "      <th>Specificity</th>\n",
       "      <th>F_score</th>\n",
       "    </tr>\n",
       "  </thead>\n",
       "  <tbody>\n",
       "    <tr>\n",
       "      <th>0</th>\n",
       "      <td>40</td>\n",
       "      <td>2</td>\n",
       "      <td>0.875704</td>\n",
       "      <td>0.276308</td>\n",
       "      <td>0.990294</td>\n",
       "      <td>0.416000</td>\n",
       "    </tr>\n",
       "    <tr>\n",
       "      <th>1</th>\n",
       "      <td>40</td>\n",
       "      <td>3</td>\n",
       "      <td>0.875506</td>\n",
       "      <td>0.260615</td>\n",
       "      <td>0.993059</td>\n",
       "      <td>0.401413</td>\n",
       "    </tr>\n",
       "    <tr>\n",
       "      <th>2</th>\n",
       "      <td>40</td>\n",
       "      <td>4</td>\n",
       "      <td>0.875309</td>\n",
       "      <td>0.264615</td>\n",
       "      <td>0.992059</td>\n",
       "      <td>0.404647</td>\n",
       "    </tr>\n",
       "    <tr>\n",
       "      <th>3</th>\n",
       "      <td>40</td>\n",
       "      <td>5</td>\n",
       "      <td>0.876148</td>\n",
       "      <td>0.277231</td>\n",
       "      <td>0.990647</td>\n",
       "      <td>0.417638</td>\n",
       "    </tr>\n",
       "    <tr>\n",
       "      <th>4</th>\n",
       "      <td>40</td>\n",
       "      <td>6</td>\n",
       "      <td>0.874815</td>\n",
       "      <td>0.256000</td>\n",
       "      <td>0.993118</td>\n",
       "      <td>0.395444</td>\n",
       "    </tr>\n",
       "  </tbody>\n",
       "</table>\n",
       "</div>"
      ],
      "text/plain": [
       "    C  n_list  Accuracy  Sensitivity  Specificity   F_score\n",
       "0  40       2  0.875704     0.276308     0.990294  0.416000\n",
       "1  40       3  0.875506     0.260615     0.993059  0.401413\n",
       "2  40       4  0.875309     0.264615     0.992059  0.404647\n",
       "3  40       5  0.876148     0.277231     0.990647  0.417638\n",
       "4  40       6  0.874815     0.256000     0.993118  0.395444"
      ]
     },
     "execution_count": 136,
     "metadata": {},
     "output_type": "execute_result"
    }
   ],
   "source": [
    "bagging_results.head()"
   ]
  },
  {
   "cell_type": "code",
   "execution_count": 137,
   "metadata": {},
   "outputs": [
    {
     "data": {
      "text/html": [
       "<div>\n",
       "<style scoped>\n",
       "    .dataframe tbody tr th:only-of-type {\n",
       "        vertical-align: middle;\n",
       "    }\n",
       "\n",
       "    .dataframe tbody tr th {\n",
       "        vertical-align: top;\n",
       "    }\n",
       "\n",
       "    .dataframe thead th {\n",
       "        text-align: right;\n",
       "    }\n",
       "</style>\n",
       "<table border=\"1\" class=\"dataframe\">\n",
       "  <thead>\n",
       "    <tr style=\"text-align: right;\">\n",
       "      <th></th>\n",
       "      <th>C</th>\n",
       "      <th>n_list</th>\n",
       "      <th>Accuracy</th>\n",
       "      <th>Sensitivity</th>\n",
       "      <th>Specificity</th>\n",
       "      <th>F_score</th>\n",
       "    </tr>\n",
       "  </thead>\n",
       "  <tbody>\n",
       "    <tr>\n",
       "      <th>114</th>\n",
       "      <td>100</td>\n",
       "      <td>2</td>\n",
       "      <td>0.877185</td>\n",
       "      <td>0.298769</td>\n",
       "      <td>0.987765</td>\n",
       "      <td>0.437109</td>\n",
       "    </tr>\n",
       "    <tr>\n",
       "      <th>79</th>\n",
       "      <td>80</td>\n",
       "      <td>5</td>\n",
       "      <td>0.876543</td>\n",
       "      <td>0.279385</td>\n",
       "      <td>0.990706</td>\n",
       "      <td>0.420460</td>\n",
       "    </tr>\n",
       "    <tr>\n",
       "      <th>20</th>\n",
       "      <td>50</td>\n",
       "      <td>3</td>\n",
       "      <td>0.876938</td>\n",
       "      <td>0.277846</td>\n",
       "      <td>0.991471</td>\n",
       "      <td>0.419363</td>\n",
       "    </tr>\n",
       "    <tr>\n",
       "      <th>58</th>\n",
       "      <td>70</td>\n",
       "      <td>3</td>\n",
       "      <td>0.876148</td>\n",
       "      <td>0.279385</td>\n",
       "      <td>0.990235</td>\n",
       "      <td>0.418962</td>\n",
       "    </tr>\n",
       "    <tr>\n",
       "      <th>69</th>\n",
       "      <td>70</td>\n",
       "      <td>14</td>\n",
       "      <td>0.876395</td>\n",
       "      <td>0.277846</td>\n",
       "      <td>0.990824</td>\n",
       "      <td>0.418862</td>\n",
       "    </tr>\n",
       "  </tbody>\n",
       "</table>\n",
       "</div>"
      ],
      "text/plain": [
       "       C  n_list  Accuracy  Sensitivity  Specificity   F_score\n",
       "114  100       2  0.877185     0.298769     0.987765  0.437109\n",
       "79    80       5  0.876543     0.279385     0.990706  0.420460\n",
       "20    50       3  0.876938     0.277846     0.991471  0.419363\n",
       "58    70       3  0.876148     0.279385     0.990235  0.418962\n",
       "69    70      14  0.876395     0.277846     0.990824  0.418862"
      ]
     },
     "execution_count": 137,
     "metadata": {},
     "output_type": "execute_result"
    }
   ],
   "source": [
    "bagging_results.nlargest(5, 'F_score')"
   ]
  },
  {
   "cell_type": "markdown",
   "metadata": {},
   "source": [
    "<br /> \n",
    "\n",
    "## CONCLUSION \n",
    "\n",
    "__The best estimator to use inside of the pipeline__: BaggingClassifier with the base estimator set to Logistic Regression and using C = 100, max_iter = 500 and setting the n_estimators for the baggingClassifier to be 2.   "
   ]
  }
 ],
 "metadata": {
  "kernelspec": {
   "display_name": "Python 3",
   "language": "python",
   "name": "python3"
  },
  "language_info": {
   "codemirror_mode": {
    "name": "ipython",
    "version": 3
   },
   "file_extension": ".py",
   "mimetype": "text/x-python",
   "name": "python",
   "nbconvert_exporter": "python",
   "pygments_lexer": "ipython3",
   "version": "3.7.6"
  }
 },
 "nbformat": 4,
 "nbformat_minor": 4
}
